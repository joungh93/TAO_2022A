{
 "cells": [
  {
   "cell_type": "markdown",
   "metadata": {},
   "source": [
    "# 0. Importing Necessary Packages"
   ]
  },
  {
   "cell_type": "code",
   "execution_count": 1,
   "metadata": {},
   "outputs": [
    {
     "data": {
      "application/json": {
       "Software versions": [
        {
         "module": "Python",
         "version": "2.7.17 64bit [GCC 7.3.0]"
        },
        {
         "module": "IPython",
         "version": "5.8.0"
        },
        {
         "module": "OS",
         "version": "Linux 5.8.18 100.fc31.x86_64 x86_64 with fedora 31 Thirty_One"
        }
       ]
      },
      "text/html": [
       "<table><tr><th>Software</th><th>Version</th></tr><tr><td>Python</td><td>2.7.17 64bit [GCC 7.3.0]</td></tr><tr><td>IPython</td><td>5.8.0</td></tr><tr><td>OS</td><td>Linux 5.8.18 100.fc31.x86\\_64 x86\\_64 with fedora 31 Thirty\\_One</td></tr><tr><td colspan='2'>Mon Apr 25 07:55:31 2022 KST</td></tr></table>"
      ],
      "text/latex": [
       "\\begin{tabular}{|l|l|}\\hline\n",
       "{\\bf Software} & {\\bf Version} \\\\ \\hline\\hline\n",
       "Python & 2.7.17 64bit [GCC 7.3.0] \\\\ \\hline\n",
       "IPython & 5.8.0 \\\\ \\hline\n",
       "OS & Linux 5.8.18 100.fc31.x86\\_64 x86\\_64 with fedora 31 Thirty\\_One \\\\ \\hline\n",
       "\\hline \\multicolumn{2}{|l|}{Mon Apr 25 07:55:31 2022 KST} \\\\ \\hline\n",
       "\\end{tabular}\n"
      ],
      "text/plain": [
       "Software versions\n",
       "Python 2.7.17 64bit [GCC 7.3.0]\n",
       "IPython 5.8.0\n",
       "OS Linux 5.8.18 100.fc31.x86_64 x86_64 with fedora 31 Thirty_One\n",
       "Mon Apr 25 07:55:31 2022 KST"
      ]
     },
     "execution_count": 1,
     "metadata": {},
     "output_type": "execute_result"
    }
   ],
   "source": [
    "# Printing the information of Python, IPython, OS, and the generation date.\n",
    "# Before running this, you have to install version_information module with \"pip install version_information\".\n",
    "%load_ext version_information\n",
    "%version_information"
   ]
  },
  {
   "cell_type": "code",
   "execution_count": 2,
   "metadata": {},
   "outputs": [
    {
     "name": "stdout",
     "output_type": "stream",
     "text": [
      "numpy: ver 1.16.5\n",
      "matplotlib: ver 2.2.3\n",
      "pandas: ver 0.24.2\n",
      "astropy: ver 2.0.16\n",
      "pyraf: ver 2.1.15\n"
     ]
    }
   ],
   "source": [
    "# Printing the versions of packages\n",
    "from importlib_metadata import version\n",
    "for pkg in ['numpy', 'matplotlib', 'pandas', 'astropy', 'pyraf']:\n",
    "    print(pkg+\": ver \"+version(pkg))"
   ]
  },
  {
   "cell_type": "code",
   "execution_count": 3,
   "metadata": {},
   "outputs": [
    {
     "name": "stdout",
     "output_type": "stream",
     "text": [
      "/data/jlee/DATA/TA/2022A/\n"
     ]
    }
   ],
   "source": [
    "# Matplotlib backend\n",
    "%matplotlib notebook\n",
    "\n",
    "# Importing necessary modules\n",
    "import time\n",
    "import numpy as np\n",
    "import glob, os\n",
    "from matplotlib import pyplot as plt\n",
    "import pandas as pd\n",
    "from astropy.io import fits\n",
    "from astropy.stats import sigma_clipped_stats\n",
    "\n",
    "current_dir = os.getcwd()    # Current working directory\n",
    "login_file = \"/data/jlee/DATA/TA/2022A/login.cl\"    # Please give the absolute path of your 'login.cl' file\n",
    "\n",
    "# Reading 'login.cl' file\n",
    "f = open(login_file, \"r\")\n",
    "ll = f.readlines()\n",
    "f.close()\n",
    "\n",
    "# Finding the string for home directory in 'login.cl' file\n",
    "line_homedir = np.argwhere(pd.Series(ll).str.startswith(\"set\\thome\\t\\t=\").values)[0][0]\n",
    "idx_start = ll[line_homedir].find('\"')\n",
    "idx_end = ll[line_homedir].find('\"', idx_start+1)\n",
    "dir_iraf = ll[line_homedir][idx_start+1:idx_end]    # Home directory recoded in the 'login.cl' file\n",
    "print(dir_iraf)    # For check\n",
    "\n",
    "# Importing IRAF\n",
    "os.chdir(dir_iraf)\n",
    "from pyraf import iraf\n",
    "os.chdir(current_dir)"
   ]
  },
  {
   "cell_type": "markdown",
   "metadata": {},
   "source": [
    "# 1. Displaying the Images"
   ]
  },
  {
   "cell_type": "code",
   "execution_count": 4,
   "metadata": {},
   "outputs": [
    {
     "data": {
      "text/plain": [
       "['Combined_images/M105-g.fits',\n",
       " 'Combined_images/M105-i.fits',\n",
       " 'Combined_images/M100-g.fits',\n",
       " 'Combined_images/M100-i.fits']"
      ]
     },
     "execution_count": 4,
     "metadata": {},
     "output_type": "execute_result"
    }
   ],
   "source": [
    "dir_img = \"Combined_images/\"\n",
    "imglist = [dir_img+\"M105-g.fits\", dir_img+\"M105-i.fits\",\n",
    "           dir_img+\"M100-g.fits\", dir_img+\"M100-i.fits\"]\n",
    "n_img = len(imglist)\n",
    "imglist"
   ]
  },
  {
   "cell_type": "code",
   "execution_count": 5,
   "metadata": {},
   "outputs": [
    {
     "name": "stdout",
     "output_type": "stream",
     "text": [
      "Running \"ds9 -scalemode zscale -scale lock yes -frame lock image Combined_images/M105-g.fits Combined_images/M105-i.fits Combined_images/M100-g.fits Combined_images/M100-i.fits &\" in the terminal...\n"
     ]
    },
    {
     "data": {
      "text/plain": [
       "0"
      ]
     },
     "execution_count": 5,
     "metadata": {},
     "output_type": "execute_result"
    }
   ],
   "source": [
    "# You can also run this command in terminal.\n",
    "ds9_options = \"-scalemode zscale -scale lock yes -frame lock image \"\n",
    "names = \"\"\n",
    "for i in np.arange(n_img):\n",
    "    names += imglist[i]+\" \"\n",
    "ds9_command = \"ds9 \"+ds9_options+names+\"&\"\n",
    "print('Running \"'+ds9_command+'\" in the terminal...')\n",
    "os.system(ds9_command)"
   ]
  },
  {
   "cell_type": "markdown",
   "metadata": {},
   "source": [
    "# 2. Running IRAF/Ellipse Task "
   ]
  },
  {
   "cell_type": "code",
   "execution_count": 6,
   "metadata": {},
   "outputs": [
    {
     "name": "stdout",
     "output_type": "stream",
     "text": [
      "\n",
      "\n",
      "      +------------------------------------------------------------+\n",
      "      |       Space Telescope Science Data Analysis System         |\n",
      "      |                   STSDAS Version 3.18.3                    |\n",
      "      |                                                            |\n",
      "      |   Space Telescope Science Institute, Baltimore, Maryland   |\n",
      "      |   Copyright (C) 2014 Association of Universities for       |\n",
      "      |            Research in Astronomy, Inc.(AURA)               |\n",
      "      |       See stsdas$copyright.stsdas for terms of use.        |\n",
      "      |         For help, send e-mail to help@stsci.edu            |\n",
      "      |                                                            |\n",
      "      +------------------------------------------------------------+\n"
     ]
    }
   ],
   "source": [
    "# IRAF/ellipse task is in the STSDAS package (IRAF external package)\n",
    "iraf.stsdas()\n",
    "iraf.stsdas.analysis()\n",
    "iraf.stsdas.analysis.isophote()"
   ]
  },
  {
   "cell_type": "code",
   "execution_count": 7,
   "metadata": {},
   "outputs": [],
   "source": [
    "# For viewing help file of \"ellipse\" task\n",
    "### IRAF.net website has recently stop its service... :(\n",
    "### But you can still see the detailed description of input parameters of any tasks (but not so convenient) \n",
    "iraf.epar(\"ellipse\")\n",
    "# You have to see the detailed definition of each parameter in geompar, controlpar, samplepar, and magpar.\n",
    "# iraf.epar(\"[TASK_NAME]\")\n",
    "### Click \"[TASK_NAME] help\" for viewing the parameter editor help browser"
   ]
  },
  {
   "cell_type": "code",
   "execution_count": 8,
   "metadata": {},
   "outputs": [],
   "source": [
    "def fit_ellipse(input_image, output_table=None, interactive=False,\n",
    "                model_image=None, residual_image=None, display=False, data_file=None,\n",
    "                x0=100.0, y0=100.0, ellip0=0.1, pa0=45.0, sma0=10.0,  # geompar\n",
    "                minsma=0.0, maxsma=50.0, step=1.0, linear=False, recenter=False,  # geompar\n",
    "                minit=10, maxit=100, hcenter=False, hellip=False, hpa=False,  # controlpar\n",
    "                usclip=3.0, lsclip=3.0, nclip=0,  # samplepar\n",
    "                mag0=25.0,  # magpar\n",
    "                backgr=0.0, interp='linear'):  # bmodel\n",
    "\n",
    "    '''\n",
    "    # --- basic input parameters --- #\n",
    "    input_image - input image name ('[FILENAME].fits')\n",
    "    output_table - output table name (default: '[FILENAME].tab')\n",
    "    interactive - interactive (boolean, default: False)\n",
    "    model_image - output model image (default: '[FILENAME]_mod.fits')\n",
    "    residual_image - output residual image (default: '[FILENAME]_res.fits')\n",
    "    data_file - output data file (default: '[FILENAME].dat')\n",
    "    display - display the results or not? (boolean, default: False)\n",
    "    \n",
    "    # --- geompar set --- #\n",
    "    x0, y0 - initial isophote center X, Y [pixel]\n",
    "    ellip0, pa0 - initial ellipticity, position angle [degree]\n",
    "    sma0 - initial semi-major axis (SMA) length [pixel]\n",
    "    minsma - minimum SMA length for fitting [pixel] (default: 0.0)\n",
    "    maxsma - maximum SMA length for fitting [pixel]\n",
    "    step - SMA step between successive ellipses [pixel]\n",
    "    linear - linear SMA step for fitting? (boolean, default: False)\n",
    "    recenter - do you allow to re-center x0 & y0? (boolean, default: False)\n",
    "    \n",
    "    # --- controlpar set --- #\n",
    "    minit - minimum iteration number at each step of SMA (default: 10)\n",
    "    maxit - maximum iteration number at each step of SMA (default: 100)\n",
    "    hcenter - do you want to hold center fixed? (boolean, default: False)\n",
    "    hellip - do you want to hold ellipticity fixed? (boolean, default: False)\n",
    "    hpa - do you want to hold position angle fixed? (boolean, default: False)\n",
    "    \n",
    "    # --- samplepar set --- #\n",
    "    usclip - upper sigma-clip criterion (default: 3)\n",
    "    lsclip - lower sigma-clip criterion (default: 3)\n",
    "    nclip - iteration number for the sigma clipping (default: 0)\n",
    "    \n",
    "    # --- magpar set --- #\n",
    "    mag0 - magnitude zeropoint (default: 25.0)\n",
    "    \n",
    "    # --- bmodel parameter set --- #\n",
    "    backgr - background level for making model image (default: 0.0)\n",
    "    interp - interpolation algorithm for model image ('nearest' OR 'linear' OR 'poly3' OR 'spline', default: 'linear')    \n",
    "    '''\n",
    "    \n",
    "    iname = input_image.split('.fits')[0].split('/')[-1]    # Image name\n",
    "    if (output_table is None):\n",
    "        output_table = iname+'.tab'    # Output table name\n",
    "    if (model_image is None):\n",
    "        model_image = iname+'_mod.fits'    # Output model image name\n",
    "    if (residual_image is None):\n",
    "        residual_image = iname+'_res.fits'    # Output residual image name\n",
    "    if (data_file is None):\n",
    "        data_file = iname+'.dat'    # Output data file name \n",
    "\n",
    "    # Running IRAF/ellipse task\n",
    "    os.system(\"rm -rfv \"+output_table+\" colnames.lis \"+data_file)  # Reset by removing the output data\n",
    "    kwargs = {\"x0\":x0, \"y0\":y0, \"ellip0\":ellip0, \"pa0\":pa0, \"sma0\":sma0,\n",
    "              \"minsma\":minsma, \"maxsma\":maxsma, \"step\":step, \"linear\":\"no\", \"recenter\":\"no\",\n",
    "              \"minit\":minit, \"maxit\":maxit, \"hcenter\":\"no\", \"hellip\":\"no\", \"hpa\":\"no\",\n",
    "              \"integrmode\":\"bi-linear\", \"usclip\":usclip, \"lsclip\":lsclip, \"nclip\":nclip,\n",
    "              \"mag0\":mag0, \"refer\":1.0E-5, \"zerolevel\":0.0}\n",
    "    iraf.ellipse(input=input_image, output=output_table, interactive=interactive,\n",
    "                 **kwargs)\n",
    "    \n",
    "    # Making model, residual images\n",
    "    os.system(\"rm -rfv \"+model_image+\" \"+residual_image)  # Reset by removing the output images\n",
    "    iraf.bmodel(table=output_table, output=model_image, parent=input_image,\n",
    "                backgr=backgr, interp=interp)    # bmodel task for model image\n",
    "    \n",
    "    iraf.imarith(input_image, \"-\", model_image, residual_image)    # input - model = residual\n",
    "    \n",
    "    if display:    # if display == True, DS9 will display input, model, and residual images.\n",
    "        opt = \" -scalemode zscale -scale lock yes -frame lock image \"\n",
    "        opt += \" -tile grid mode manual -tile grid layout 3 1 \"\n",
    "        os.system(\"ds9 \"+opt+input_image+\" \"+model_image+\" \"+residual_image+\"&\")\n",
    "    \n",
    "    # Reading output results\n",
    "    ### output_table is not directly readable because it is a binary-format file :( \n",
    "    iraf.tlcol(output_table, nlist=1, Stdout='colnames.lis')    # Extracting column names\n",
    "    iraf.tdump(table=output_table, columns=\"@colnames.lis\", datafile=data_file)    # Making ASCII data file\n",
    "    \n",
    "    f = open(\"colnames.lis\", \"r\")\n",
    "    cc = f.readlines()\n",
    "    f.close()\n",
    "\n",
    "    colnames = []\n",
    "    for line in cc:\n",
    "        if not (line[0] == '#'):\n",
    "            colnames.append(line.split(' ')[0])\n",
    "#     print(colnames)    # column names array\n",
    "    \n",
    "    iso_tbl = np.genfromtxt(data_file, encoding=\"ascii\", names=colnames)    # Reading data\n",
    "    iso_df = pd.DataFrame(iso_tbl)\n",
    "#     print(iso_df)    # output result data frame\n",
    "    \n",
    "    return iso_df"
   ]
  },
  {
   "cell_type": "code",
   "execution_count": 9,
   "metadata": {},
   "outputs": [
    {
     "name": "stdout",
     "output_type": "stream",
     "text": [
      "(0.02016184872497758, 0.015442665365112712)\n",
      "Running object locator... Done.\n",
      "#\n",
      "# Semi-    Isophote      Ellipticity     Position   Grad.  Data Flag Iter. Stop\n",
      "# major      mean                         Angle      rel.                  code\n",
      "# axis     intensity                                error\n",
      "#(pixel)                                 (degree)\n",
      "#\n",
      "   5.00    33.55(  0.14) 0.084(0.003)  70.25( 1.16) 0.018   30   0    20    0\n",
      "   5.25    32.44(  0.14) 0.087(0.003)  71.93( 1.06) 0.015   32   0    10    0\n",
      "   5.51    31.26(  0.13) 0.087(0.003)  72.97( 0.97) 0.014   33   0    10    0\n",
      "   5.79    30.11(  0.12) 0.088(0.002)  73.48( 0.83) 0.012   35   0    10    0\n",
      "   6.08    28.95(  0.12) 0.089(0.002)  73.43( 0.81) 0.011   37   0    10    0\n",
      "   6.38    27.83(  0.11) 0.090(0.002)  73.68( 0.71) 0.010   39   0    10    0\n",
      "   6.70    26.70(  0.09) 0.093(0.002)  73.93( 0.57) 0.010   40   0    10    0\n",
      "   7.04    25.53(  0.10) 0.091(0.002)  74.14( 0.62) 0.010   42   0    10    0\n",
      "   7.39    24.42(  0.12) 0.091(0.002)  74.44( 0.73) 0.012   45   0    10    0\n",
      "   7.76    23.32(  0.11) 0.091(0.002)  74.62( 0.68) 0.010   47   0    10    0\n",
      "   8.14    22.21(  0.12) 0.089(0.002)  74.04( 0.74) 0.010   49   0    10    0\n",
      "   8.55    21.18(  0.09) 0.090(0.002)  74.21( 0.58) 0.009   52   0    10    0\n",
      "   8.98    20.15(  0.08) 0.090(0.001)  74.74( 0.49) 0.008   54   0    10    0\n",
      "   9.43    19.12(  0.09) 0.089(0.002)  74.80( 0.54) 0.009   57   0    10    0\n",
      "   9.90    18.13(  0.09) 0.090(0.002)  74.37( 0.53) 0.009   60   0    10    0\n",
      "  10.39    17.16(  0.08) 0.090(0.002)  73.80( 0.52) 0.008   62   1    10    0\n",
      "  10.91    16.23(  0.10) 0.091(0.002)  73.71( 0.58) 0.008   66   0    10    0\n",
      "  11.46    15.30(  0.08) 0.090(0.002)  73.98( 0.51) 0.007   69   0    10    0\n",
      "  12.03    14.37(  0.06) 0.088(0.001)  73.86( 0.40) 0.007   72   0    10    0\n",
      "  12.63    13.47(  0.06) 0.086(0.001)  74.04( 0.39) 0.007   75   1    10    0\n",
      "  13.27    12.63(  0.07) 0.083(0.001)  73.72( 0.51) 0.007   80   0    10    0\n",
      "  13.93    11.84(  0.08) 0.084(0.002)  72.86( 0.56) 0.008   84   0    10    0\n",
      "  14.63    11.05(  0.07) 0.082(0.001)  73.05( 0.53) 0.007   88   0    10    0\n",
      "  15.36    10.30(  0.06) 0.078(0.001)  73.76( 0.49) 0.007   91   2   100    2\n",
      "  16.13     9.61(  0.05) 0.076(0.001)  74.02( 0.44) 0.006   97   0    10    0\n",
      "  16.93     8.98(  0.06) 0.075(0.001)  73.48( 0.54) 0.007  102   0    10    0\n",
      "  17.78     8.41(  0.05) 0.078(0.001)  72.87( 0.52) 0.007  107   0    10    0\n",
      "  18.67     7.86(  0.05) 0.077(0.001)  73.70( 0.52) 0.007  113   0    10    0\n",
      "  19.60     7.34(  0.05) 0.077(0.001)  74.29( 0.49) 0.007  117   1    10    0\n",
      "  20.58     6.88(  0.05) 0.080(0.001)  73.52( 0.48) 0.036  124   0    10    0\n",
      "  21.61     6.43(  0.05) 0.082(0.001)  73.19( 0.46) 0.030  130   0    10    0\n",
      "  22.69     6.00(  0.04) 0.084(0.001)  72.61( 0.45) 0.028  136   0    10    0\n",
      "  23.82     5.58(  0.04) 0.082(0.001)  73.02( 0.44) 0.032  143   0    10    0\n",
      "  25.02     5.21(  0.04) 0.084(0.001)  72.48( 0.39) 0.026  148   2    10    0\n",
      "  26.27     4.84(  0.03) 0.083(0.001)  72.94( 0.38) 0.023  157   1    10    0\n",
      "  27.58     4.50(  0.03) 0.084(0.001)  72.14( 0.32) 0.024  162   4    10    0\n",
      "  28.96     4.17(  0.03) 0.086(0.001)  72.66( 0.34) 0.019  174   0    10    0\n",
      "  30.41     3.86(  0.03) 0.086(0.001)  72.67( 0.32) 0.021  180   2    10    0\n",
      "  31.93     3.58(  0.02) 0.087(0.001)  72.37( 0.28) 0.018  187   4    10    0\n",
      "  33.52     3.30(  0.03) 0.086(0.001)  71.68( 0.33) 0.018  199   2    10    0\n",
      "  35.20     3.04(  0.03) 0.089(0.001)  71.50( 0.33) 0.018  211   0    10    0\n",
      "  36.96     2.78(  0.02) 0.085(0.001)  71.50( 0.32) 0.014  220   2    10    0\n",
      "  38.81     2.55(  0.02) 0.085(0.001)  71.72( 0.34) 0.015  233   0    10    0\n",
      "  40.75     2.34(  0.02) 0.086(0.001)  71.31( 0.28) 0.013  242   2    10    0\n",
      "  42.79     2.15(  0.02) 0.088(0.001)  70.58( 0.34) 0.014  252   4    10    0\n",
      "  44.92     1.97(  0.02) 0.091(0.001)  70.17( 0.37) 0.015  266   2    10    0\n",
      "  47.17     1.82(  0.02) 0.093(0.001)  71.19( 0.34) 0.012  280   1    10    0\n",
      "  49.53     1.67(  0.02) 0.095(0.001)  70.53( 0.40) 0.014  293   2    10    0\n",
      "  52.01     1.55(  0.02) 0.099(0.001)  69.80( 0.35) 0.013  307   2    10    0\n",
      "  54.61     1.43(  0.02) 0.100(0.001)  69.48( 0.41) 0.014  323   1    10    0\n",
      "  57.34     1.33(  0.02) 0.103(0.001)  70.26( 0.40) 0.015  330  10    10    0\n",
      "  60.20     1.24(  0.02) 0.109(0.002)  70.67( 0.45) 0.015  346  10    10    0\n",
      "  63.21     1.17(  0.02) 0.116(0.001)  69.50( 0.38) 0.016  359  13    10    0\n",
      "  66.37     1.09(  0.02) 0.120(0.002)  69.41( 0.40) 0.014  383   7    10    0\n",
      "  69.69     1.02(  0.02) 0.125(0.002)  69.81( 0.40) 0.016  407   1    10    0\n",
      "  73.18     0.95(  0.01) 0.121(0.002)  69.00( 0.40) 0.016  428   1    10    0\n",
      "  76.84     0.90(  0.02) 0.131(0.002)  70.00( 0.40) 0.016  438  10    10    0\n",
      "  80.68     0.84(  0.01) 0.130(0.002)  69.29( 0.40) 0.017  469   2    10    0\n",
      "  84.71     0.79(  0.02) 0.135(0.002)  68.54( 0.41) 0.017  492   1    10    0\n",
      "  88.95     0.74(  0.02) 0.137(0.002)  69.07( 0.39) 0.016  509   8    10    0\n",
      "  93.40     0.70(  0.02) 0.140(0.002)  68.91( 0.39) 0.017  529  12    10    0\n",
      "  98.07     0.65(  0.02) 0.143(0.002)  68.60( 0.39) 0.016  567   1    10    0\n",
      " 102.97     0.61(  0.02) 0.137(0.002)  68.34( 0.44) 0.015  596   2    10    0\n",
      " 108.12     0.56(  0.02) 0.136(0.002)  68.05( 0.40) 0.016  624   4    10    0\n",
      " 113.52     0.52(  0.01) 0.138(0.002)  68.58( 0.36) 0.015  652   7    10    0\n",
      " 119.20     0.48(  0.01) 0.134(0.002)  69.13( 0.40) 0.015  683  11    10    0\n",
      " 125.16     0.44(  0.01) 0.132(0.002)  68.53( 0.42) 0.015  710  19    10    0\n",
      " 131.42     0.40(  0.01) 0.132(0.002)  68.99( 0.41) 0.016  751  14    10    0\n",
      " 137.99     0.36(  0.01) 0.132(0.002)  68.39( 0.43) 0.017  799   5    10    0\n",
      " 144.89     0.33(  0.01) 0.135(0.002)  69.20( 0.41) 0.017  833   9    10    0\n",
      " 152.13     0.30(  0.01) 0.129(0.002)  68.26( 0.47) 0.017  873  15    10    0\n",
      " 159.74     0.27(  0.01) 0.133(0.002)  66.98( 0.49) 0.018  909  21    19    0\n",
      " 167.73     0.24(  0.01) 0.135(0.002)  68.69( 0.51) 0.020  970   5    10    0\n",
      " 176.11     0.22(  0.01) 0.135(0.002)  68.69( 0.52) 0.021 1003  21    10    0\n",
      " 184.92     0.20(  0.02) 0.135(0.003)  68.69( 0.57) 0.023 1060  15   100    2\n",
      " 194.16     0.18(  0.01) 0.129(0.003)  69.20( 0.62) 0.023 1122  11    10    0\n",
      " 203.87     0.16(  0.01) 0.133(0.003)  70.10( 0.62) 0.023 1176  10    10    0\n",
      " 214.06     0.14(  0.01) 0.133(0.003)  69.11( 0.63) 0.025 1236  10   100    2\n",
      " 224.77     0.13(  0.01) 0.133(0.003)  69.11( 0.73) 0.027 1301   7    10    0\n",
      " 236.01     0.11(  0.01) 0.125(0.003)  70.18( 0.83) 0.029 1363  17    10    0\n",
      " 247.81     0.10(  0.01) 0.128(0.003)  68.90( 0.80) 0.029 1435  11    10    0\n",
      " 260.20     0.09(  0.01) 0.128(0.004)  72.26( 0.93) 0.033 1500  19   100    2\n",
      " 273.21     0.08(  0.01) 0.128(0.004)  72.26( 1.06) 0.037 1585  10   100    2\n",
      " 286.87     0.07(  0.01) 0.128(0.005)  69.48( 1.14) 0.041 1660  14    10    0\n",
      " 301.21     0.07(  0.01) 0.138(0.005)  68.26( 1.08) 0.044 1736  12    10    0\n",
      " 316.27     0.06(  0.01) 0.138(0.005)  71.03( 1.16) 0.047 1810  25    10    0\n",
      " 332.08     0.05(  0.01) 0.132(0.006)  73.22( 1.28) 0.050 1926   8    10    0\n",
      " 348.69     0.05(  0.01) 0.149(0.007)  70.74( 1.52) 0.066 1995  15    10    0\n",
      " 366.12     0.04(  0.01) 0.164(0.006)  73.72( 1.20) 0.057 2065  26    10    0\n",
      " 384.43     0.04(  0.01) 0.148(0.006)  71.67( 1.33) 0.058 2192  25    11    0\n",
      " 403.65     0.03(  0.01) 0.138(0.010)  74.68( 2.18) 0.084 2319  23    16    0\n",
      " 423.83     0.03(  0.01) 0.132(0.008)  71.30( 1.90) 0.079 2449  18    11    0\n",
      " 445.02     0.03(  0.01) 0.124(0.011)  74.95( 2.68) 0.184 2583  21    10    0\n",
      " 467.28     0.03(  0.01) 0.145(0.011)  73.07( 2.22) 0.134 2407 293    10    0\n",
      "   4.76    34.74(  0.13) 0.089(0.003)  70.32( 0.99) 0.016   29   0    10    0\n",
      "   4.54    35.90(  0.14) 0.090(0.003)  70.07( 1.11) 0.017   28   0    10    0\n",
      "   4.32    37.02(  0.14) 0.091(0.004)  69.21( 1.21) 0.017   26   0    10    0\n",
      "   4.11    38.08(  0.16) 0.091(0.004)  69.32( 1.37) 0.019   25   0    10    0\n",
      "   3.92    39.21(  0.16) 0.094(0.004)  69.27( 1.46) 0.022   24   0    10    0\n",
      "   3.73    40.34(  0.18) 0.100(0.005)  69.04( 1.56) 0.025   23   0    10    0\n",
      "   3.55    41.32(  0.22) 0.096(0.006)  68.21( 2.05) 0.029   22   0    10    0\n"
     ]
    },
    {
     "name": "stdout",
     "output_type": "stream",
     "text": [
      "   3.38    42.40(  0.23) 0.101(0.007)  68.47( 2.19) 0.032   21   0    10    0\n",
      "   3.22    43.31(  0.26) 0.098(0.008)  66.60( 2.71) 0.043   20   0    10    0\n",
      "   3.07    44.33(  0.24) 0.107(0.008)  68.21( 2.49) 0.045   19   0    10    0\n",
      "   2.92    45.09(  0.27) 0.095(0.010)  66.66( 3.34) 0.049   18   0    10    0\n",
      "   2.78    46.05(  0.28) 0.103(0.011)  67.61( 3.40) 0.055   17   0    10    0\n",
      "   2.65    46.80(  0.25) 0.096(0.011)  65.38( 3.55) 0.061   16   0    10    0\n",
      "   2.53    47.56(  0.29) 0.097(0.013)  64.34( 4.31) 0.065   16   0    10    0\n",
      "   2.41    48.36(  0.31) 0.105(0.016)  70.59( 4.89) 0.085   15   0    10    0\n",
      "   2.29    49.04(  0.33) 0.103(0.020)  68.83( 5.94) 0.101   14   0    10    0\n",
      "   2.18    49.76(  0.35) 0.107(0.022)  68.89( 6.20) 0.100   13   0    10    0\n",
      "   2.08    50.28(  0.35) 0.090(0.023)  68.89( 7.69) 0.107   13   0   100    2\n",
      "   1.98    50.81(  0.35) 0.090(0.025)  68.89( 8.70) 0.122   13   0   100    2\n",
      "   1.88    51.29(  0.32) 0.090(0.028)  68.89( 9.45) 0.135   13   0   100    2\n",
      "   1.79    51.73(  0.30) 0.090(0.027)  68.89( 9.32) 0.135   13   0   100    2\n",
      "   1.71    52.14(  0.25) 0.090(0.024)  68.89( 8.39) 0.135   13   0   100    2\n",
      "   1.63    52.54(  0.26) 0.090(0.027)  66.03( 9.33) 0.145   13   0   100    2\n",
      "   1.55    52.92(  0.24) 0.090(0.026)  64.77( 9.06) 0.141   13   0   100    2\n",
      "   1.48    53.28(  0.23) 0.093(0.027)  62.76( 9.14) 0.147   13   0    10    0\n",
      "   1.41    53.57(  0.20) 0.087(0.025)  59.17( 8.86) 0.135   13   0    10    0\n",
      "   1.34    53.87(  0.09) 0.098(0.013)  51.11( 4.27) 0.118   13   0    10    0\n",
      "   1.28    54.19(  0.09) 0.103(0.013)  45.36( 3.91) 0.087   13   0    10    0\n",
      "   1.21    54.45(  0.16) 0.098(0.027)  39.68( 8.54) 0.135   13   0    10    0\n",
      "   1.16    54.63(  0.19) 0.098(0.037)  38.78(11.93) 0.172   13   0    10    0\n",
      "   1.10    54.80(  0.22) 0.098(0.050)  36.46(15.96) 0.223   13   0    10    0\n",
      "   1.05    54.98(  0.25) 0.110(0.062)  32.65(17.59) 0.276   13   0    10    0\n",
      "   1.00    55.10(  0.24) 0.110(0.075)  35.83(21.26) 0.335   13   0    10    0\n",
      "   0.95    55.21(  0.24) 0.110(0.088)  35.83(24.98) 0.414   13   0   100    2\n",
      "   0.91    55.31(  0.24) 0.110(0.094)  35.83(26.86) 0.446   13   0   100    2\n",
      "   0.86    55.40(  0.22) 0.110(0.098)  37.79(27.89) 0.480   13   0   100    2\n",
      "   0.82    55.48(  0.20) 0.110(0.100)  39.63(28.60) 0.501   13   0   100    2\n",
      "   0.78    55.56(  0.19) 0.110(0.099)  39.63(28.17) 0.495   13   0   100    2\n",
      "   0.75    55.62(  0.18) 0.086(0.102)  39.63(36.46) 0.496   13   0   100    2\n",
      "   0.71    55.69(  0.17) 0.086(0.101)  39.63(36.32) 0.493   13   0   100    2\n",
      "   0.68    55.76(  0.16) 0.086(0.101)  39.63(36.21) 0.491   13   0   100    2\n",
      "   0.64    55.83(  0.15) 0.086(0.099)  39.63(35.68) 0.485   13   0   100    2\n",
      "   0.61    55.88(  0.15) 0.072(0.102)  39.63(43.52) 0.489   13   0   100    2\n",
      "   0.58    55.94(  0.14) 0.072(0.100)  39.63(42.89) 0.480   13   0   100    2\n",
      "   0.56    56.00(  0.13) 0.072(0.100)  39.63(42.83) 0.480   13   0   100    2\n",
      "   0.53    56.05(  0.13) 0.072(0.101)  43.74(43.09) 0.485   13   0    11    0\n",
      "   0.50    56.10(  0.12) 0.072(0.100)  43.03(42.63) 0.477   13   0    16    0\n",
      "   0.00    57.12\n",
      "   2.48  CPU seconds.\n",
      "   0.03  minutes elapsed.\n",
      "SMA              R           %7.2f  pixel\n",
      "INTENS           R          %10.3g  \"\"\n",
      "INT_ERR          R          %10.3g  \"\"\n",
      "PIX_VAR          R           %9.3g  \"\"\n",
      "RMS              R           %9.3g  \"\"\n",
      "ELLIP            R           %6.4f  \"\"\n",
      "ELLIP_ERR        R           %6.4f  \"\"\n",
      "PA               R           %6.2f  degrees\n",
      "PA_ERR           R           %6.2f  degrees\n",
      "X0               R           %7.2f  pixel\n",
      "X0_ERR           R           %6.2f  pixel\n",
      "Y0               R           %7.2f  pixel\n",
      "Y0_ERR           R           %6.2f  pixel\n",
      "GRAD             R           %8.3g  \"\"\n",
      "GRAD_ERR         R           %6.3g  \"\"\n",
      "GRAD_R_ERR       R           %6.3g  \"\"\n",
      "RSMA             R           %7.5f  pixel**1/4\n",
      "MAG              R           %7.3g  \"\"\n",
      "MAG_LERR         R           %7.3g  \"\"\n",
      "MAG_UERR         R           %7.3g  \"\"\n",
      "TFLUX_E          R          %12.5g  \"\"\n",
      "TFLUX_C          R          %12.5g  \"\"\n",
      "TMAG_E           R           %7.3g  \"\"\n",
      "TMAG_C           R           %7.3g  \"\"\n",
      "NPIX_E           I             %6d  \"\"\n",
      "NPIX_C           I             %6d  \"\"\n",
      "A3               R           %9.3g  \"\"\n",
      "A3_ERR           R           %7.3g  \"\"\n",
      "B3               R           %9.3g  \"\"\n",
      "B3_ERR           R           %7.3g  \"\"\n",
      "A4               R           %9.3g  \"\"\n",
      "A4_ERR           R           %7.3g  \"\"\n",
      "B4               R           %9.3g  \"\"\n",
      "B4_ERR           R           %7.3g  \"\"\n",
      "NDATA            I             %5d  \"\"\n",
      "NFLAG            I             %5d  \"\"\n",
      "NITER            I             %3d  \"\"\n",
      "STOP             I             %2d  \"\"\n",
      "A_BIG            R           %9.3g  \"\"\n",
      "SAREA            R           %5.1f  pixel\n",
      "IMAGE    t Combined_images/M105-g.fits\n"
     ]
    }
   ],
   "source": [
    "# For g-band image of M105\n",
    "imgname = \"Combined_images/M105-g.fits\"\n",
    "x_center, y_center = 455.0, 455.0    # depending on your object\n",
    "r0 = 420.0    # maximum SMA\n",
    "\n",
    "# --- Background estimation for determining backgroun level --- #\n",
    "### (This is up to you! You do not have to do this if the background level in your images can be obviously determined.)\n",
    "img = fits.getdata(imgname, ext=0)\n",
    "\n",
    "x1d = np.arange(0, img.shape[1], 1)\n",
    "y1d = np.arange(0, img.shape[0], 1)\n",
    "xx, yy = np.meshgrid(x1d, y1d, sparse=True)\n",
    "z = ((xx-x_center)**2.0 + (yy-y_center)**2.0 - r0**2.0)\n",
    "sky_region = (z > 0.0)\n",
    "\n",
    "avg, med, std = sigma_clipped_stats(img[sky_region], sigma=3.0)\n",
    "sky_val, sky_sig = 3.0*med - 2.0*avg, std\n",
    "print(sky_val, sky_sig)\n",
    "# ---------- #\n",
    "\n",
    "kwargs = {\"x0\":455.0, \"y0\":455.0, \"ellip0\":0.05, \"sma0\":5.0,\n",
    "          \"minsma\":0.05, \"maxsma\":470, \"step\":0.05,\n",
    "          \"hcenter\":False, \"hellip\":False, \"hpa\":False,\n",
    "          \"nclip\":2, \"mag0\":22.5,\n",
    "          \"backgr\":sky_val, \"interp\":\"linear\"}  # Here you can change input (default) parameter if needed!\n",
    "\n",
    "\n",
    "iso_df = fit_ellipse(imgname, display=True, **kwargs)\n",
    "\n",
    "\n",
    "# def fit_ellipse(input_image, output_table=None, interactive=False,\n",
    "#                 model_image=None, residual_image=None, display=False, data_file=None,\n",
    "#                 x0=100.0, y0=100.0, ellip0=0.1, pa0=45.0, sma0=10.0,  # geompar\n",
    "#                 minsma=0.0, maxsma=50.0, step=1.0, linear=False, recenter=False,  # geompar\n",
    "#                 minit=10, maxit=100, hcenter=False, hellip=False, hpa=False,  # controlpar\n",
    "#                 usclip=3.0, lsclip=3.0, nclip=0,  # samplepar\n",
    "#                 mag0=25.0,  # magpar\n",
    "#                 backgr=0.0, interp='nearest'"
   ]
  },
  {
   "cell_type": "code",
   "execution_count": null,
   "metadata": {},
   "outputs": [],
   "source": []
  }
 ],
 "metadata": {
  "kernelspec": {
   "display_name": "Python 2",
   "language": "python",
   "name": "python2"
  },
  "language_info": {
   "codemirror_mode": {
    "name": "ipython",
    "version": 2
   },
   "file_extension": ".py",
   "mimetype": "text/x-python",
   "name": "python",
   "nbconvert_exporter": "python",
   "pygments_lexer": "ipython2",
   "version": "2.7.17"
  }
 },
 "nbformat": 4,
 "nbformat_minor": 2
}
