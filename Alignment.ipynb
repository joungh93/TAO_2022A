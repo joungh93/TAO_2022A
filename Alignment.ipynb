{
 "cells": [
  {
   "cell_type": "markdown",
   "metadata": {},
   "source": [
    "# 0. Importing Necessary Packages"
   ]
  },
  {
   "cell_type": "code",
   "execution_count": 1,
   "metadata": {},
   "outputs": [
    {
     "data": {
      "application/json": {
       "Software versions": [
        {
         "module": "Python",
         "version": "3.7.9 64bit [GCC 7.3.0]"
        },
        {
         "module": "IPython",
         "version": "7.16.1"
        },
        {
         "module": "OS",
         "version": "Linux 5.8.18 100.fc31.x86_64 x86_64 with fedora 31 Thirty_One"
        }
       ]
      },
      "text/html": [
       "<table><tr><th>Software</th><th>Version</th></tr><tr><td>Python</td><td>3.7.9 64bit [GCC 7.3.0]</td></tr><tr><td>IPython</td><td>7.16.1</td></tr><tr><td>OS</td><td>Linux 5.8.18 100.fc31.x86_64 x86_64 with fedora 31 Thirty_One</td></tr><tr><td colspan='2'>Tue Apr 05 17:13:02 2022 KST</td></tr></table>"
      ],
      "text/latex": [
       "\\begin{tabular}{|l|l|}\\hline\n",
       "{\\bf Software} & {\\bf Version} \\\\ \\hline\\hline\n",
       "Python & 3.7.9 64bit [GCC 7.3.0] \\\\ \\hline\n",
       "IPython & 7.16.1 \\\\ \\hline\n",
       "OS & Linux 5.8.18 100.fc31.x86\\_64 x86\\_64 with fedora 31 Thirty\\_One \\\\ \\hline\n",
       "\\hline \\multicolumn{2}{|l|}{Tue Apr 05 17:13:02 2022 KST} \\\\ \\hline\n",
       "\\end{tabular}\n"
      ],
      "text/plain": [
       "Software versions\n",
       "Python 3.7.9 64bit [GCC 7.3.0]\n",
       "IPython 7.16.1\n",
       "OS Linux 5.8.18 100.fc31.x86_64 x86_64 with fedora 31 Thirty_One\n",
       "Tue Apr 05 17:13:02 2022 KST"
      ]
     },
     "execution_count": 1,
     "metadata": {},
     "output_type": "execute_result"
    }
   ],
   "source": [
    "# Printing the information of Python, IPython, OS, and the generation date.\n",
    "%load_ext version_information\n",
    "%version_information"
   ]
  },
  {
   "cell_type": "code",
   "execution_count": 2,
   "metadata": {},
   "outputs": [
    {
     "name": "stdout",
     "output_type": "stream",
     "text": [
      "numpy: ver 1.21.0\n",
      "matplotlib: ver 3.2.2\n",
      "astropy: ver 4.2.1\n",
      "astroalign: ver 2.4.1\n",
      "photutils: ver 1.0.2\n"
     ]
    }
   ],
   "source": [
    "# Printing the versions of packages\n",
    "from importlib_metadata import version\n",
    "for pkg in ['numpy', 'matplotlib', 'astropy', 'astroalign', 'photutils']:\n",
    "    print(pkg+\": ver \"+version(pkg))"
   ]
  },
  {
   "cell_type": "code",
   "execution_count": 3,
   "metadata": {},
   "outputs": [],
   "source": [
    "# matplotlib backend\n",
    "%matplotlib notebook\n",
    "\n",
    "# importing necessary modules\n",
    "import time\n",
    "import numpy as np\n",
    "import glob, os\n",
    "from astropy.io import fits\n",
    "import astroalign as aa"
   ]
  },
  {
   "cell_type": "markdown",
   "metadata": {},
   "source": [
    "# 1. Inspecting the Non-aligned Images (Processed)"
   ]
  },
  {
   "cell_type": "markdown",
   "metadata": {},
   "source": [
    "### Example Data: the processed data of M51a (R-band, 120 sec), 4 frames"
   ]
  },
  {
   "cell_type": "code",
   "execution_count": 4,
   "metadata": {},
   "outputs": [
    {
     "data": {
      "text/plain": [
       "['M51a/M51a-0001R_processed.fits',\n",
       " 'M51a/M51a-0002R_processed.fits',\n",
       " 'M51a/M51a-0003R_processed.fits',\n",
       " 'M51a/M51a-0004R_processed.fits']"
      ]
     },
     "execution_count": 4,
     "metadata": {},
     "output_type": "execute_result"
    }
   ],
   "source": [
    "dir_img = \"M51a/\"\n",
    "imglist = sorted(glob.glob(dir_img+\"*_processed.fits\"))\n",
    "n_img = len(imglist)\n",
    "imglist"
   ]
  },
  {
   "cell_type": "code",
   "execution_count": 5,
   "metadata": {},
   "outputs": [
    {
     "name": "stdout",
     "output_type": "stream",
     "text": [
      "Running \"ds9 -scalemode zscale -scale lock yes -frame lock image -tile grid mode manual -tile grid layout 4 1 M51a/M51a-0001R_processed.fits M51a/M51a-0002R_processed.fits M51a/M51a-0003R_processed.fits M51a/M51a-0004R_processed.fits &\" in the terminal...\n"
     ]
    },
    {
     "data": {
      "text/plain": [
       "0"
      ]
     },
     "execution_count": 5,
     "metadata": {},
     "output_type": "execute_result"
    }
   ],
   "source": [
    "# You can also run this command in terminal.\n",
    "ds9_options = \"-scalemode zscale -scale lock yes -frame lock image -tile grid mode manual -tile grid layout 4 1 \"\n",
    "names = \"\"\n",
    "for i in np.arange(n_img):\n",
    "    names += imglist[i]+\" \"\n",
    "ds9_command = \"ds9 \"+ds9_options+names+\"&\"\n",
    "print('Running \"'+ds9_command+'\" in the terminal...')\n",
    "os.system(ds9_command)"
   ]
  },
  {
   "cell_type": "markdown",
   "metadata": {},
   "source": [
    "### In the DS9 viewer, you can check if the images are aligned or not with some example stars in the images.\n",
    "\n",
    "* **Use crosshair: ``[Edit] - [Crosshair]`` and ``[Frame] - [Lock] - [Crosshair] - [Image]``** \n",
    "\n",
    "* **Zoom-in for a single bright star to test the alignment.**"
   ]
  },
  {
   "cell_type": "markdown",
   "metadata": {},
   "source": [
    "# 2. Aligning Images with Astroalign (Automatic)"
   ]
  },
  {
   "cell_type": "code",
   "execution_count": 6,
   "metadata": {},
   "outputs": [
    {
     "name": "stdout",
     "output_type": "stream",
     "text": [
      "--- 5.2363 sec were taken for aligning 4 images ---\n"
     ]
    }
   ],
   "source": [
    "# ----- Solving registration with astroalign ----- #\n",
    "# Reference image: Frame 1\n",
    "id_ref = 0\n",
    "dat_ref, hdr_ref = fits.getdata(imglist[id_ref], header=True, ext=0)\n",
    "\n",
    "# Aligning other images with respect to the reference image\n",
    "start_time = time.time()\n",
    "for i in np.arange(n_img):\n",
    "    dat, hdr = fits.getdata(imglist[i], header=True, ext=0)\n",
    "    dat = dat.byteswap().newbyteorder()    # ValueError: Big-endian buffer not supported on little-endian compiler\n",
    "    if (i == id_ref):\n",
    "        dat_aligned = dat\n",
    "    else:\n",
    "        dat_aligned, footprint = aa.register(dat, dat_ref, max_control_points=50,\n",
    "                                             detection_sigma=5, min_area=16, propagate_mask=True)\n",
    "    fits.writeto(imglist[i].split(\".fit\")[0]+\"_align_auto.fits\", dat_aligned, overwrite=True)\n",
    "end_time = time.time()\n",
    "print(f\"--- {end_time-start_time:.4f} sec were taken for aligning {n_img:d} images ---\")"
   ]
  },
  {
   "cell_type": "markdown",
   "metadata": {},
   "source": [
    "* **If the results of this automatic method are not satisfactory, then you should change the key parameters such as ``max_control_points``, ``detection_sigma``, ``min_area``, etc.**\n",
    "\n",
    "* **In particular, increasing ``min_area`` can improve the results of aligning.**"
   ]
  },
  {
   "cell_type": "code",
   "execution_count": 7,
   "metadata": {},
   "outputs": [
    {
     "name": "stdout",
     "output_type": "stream",
     "text": [
      "Running \"ds9 -scalemode zscale -scale lock yes -frame lock image -tile grid mode manual -tile grid layout 4 1 M51a/M51a-0001R_processed_align_auto.fits M51a/M51a-0002R_processed_align_auto.fits M51a/M51a-0003R_processed_align_auto.fits M51a/M51a-0004R_processed_align_auto.fits &\" in the terminal...\n"
     ]
    },
    {
     "data": {
      "text/plain": [
       "0"
      ]
     },
     "execution_count": 7,
     "metadata": {},
     "output_type": "execute_result"
    }
   ],
   "source": [
    "# You can also run this command in terminal.\n",
    "ds9_options = \"-scalemode zscale -scale lock yes -frame lock image -tile grid mode manual -tile grid layout 4 1 \"\n",
    "names = \"\"\n",
    "for i in np.arange(n_img):\n",
    "    names += imglist[i].split(\".fit\")[0]+\"_align_auto.fits \"\n",
    "ds9_command = \"ds9 \"+ds9_options+names+\"&\"\n",
    "print('Running \"'+ds9_command+'\" in the terminal...')\n",
    "os.system(ds9_command)"
   ]
  },
  {
   "cell_type": "markdown",
   "metadata": {},
   "source": [
    "### Now the images are well-aligned so we can combine all the science frames.\n",
    "\n",
    "* **Note that this aligning method is very simple and automatic, so the results might not be so satisfactory. There is a more robust way to do this using the catalogs of detected point sources in the images, but it is beyond the scope of this example code.**"
   ]
  },
  {
   "cell_type": "markdown",
   "metadata": {},
   "source": [
    "# 3. Combining the Images"
   ]
  },
  {
   "cell_type": "code",
   "execution_count": 8,
   "metadata": {},
   "outputs": [],
   "source": [
    "img_array = np.zeros((n_img, dat.shape[0], dat.shape[1]))\n",
    "for i in np.arange(n_img):\n",
    "    dat_aligned = fits.getdata(imglist[i].split(\".fit\")[0]+\"_align_auto.fits\", header=False, ext=0)\n",
    "    img_array[i, :, :] = dat_aligned\n",
    "img_combined = np.median(img_array, axis=0)\n",
    "fits.writeto(dir_img+\"M51a_R.fits\", img_combined, overwrite=True)"
   ]
  },
  {
   "cell_type": "code",
   "execution_count": null,
   "metadata": {},
   "outputs": [],
   "source": []
  }
 ],
 "metadata": {
  "kernelspec": {
   "display_name": "Python 2",
   "language": "python",
   "name": "python2"
  },
  "language_info": {
   "codemirror_mode": {
    "name": "ipython",
    "version": 2
   },
   "file_extension": ".py",
   "mimetype": "text/x-python",
   "name": "python",
   "nbconvert_exporter": "python",
   "pygments_lexer": "ipython2",
   "version": "2.7.17"
  }
 },
 "nbformat": 4,
 "nbformat_minor": 5
}
