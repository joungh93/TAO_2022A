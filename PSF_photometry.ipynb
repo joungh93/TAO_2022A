{
 "cells": [
  {
   "cell_type": "markdown",
   "metadata": {},
   "source": [
    "# 0. Importing Necessary Packages"
   ]
  },
  {
   "cell_type": "code",
   "execution_count": 116,
   "metadata": {},
   "outputs": [
    {
     "name": "stdout",
     "output_type": "stream",
     "text": [
      "The version_information extension is already loaded. To reload it, use:\n",
      "  %reload_ext version_information\n"
     ]
    },
    {
     "data": {
      "application/json": {
       "Software versions": [
        {
         "module": "Python",
         "version": "2.7.17 64bit [GCC 7.3.0]"
        },
        {
         "module": "IPython",
         "version": "5.8.0"
        },
        {
         "module": "OS",
         "version": "Linux 5.8.18 100.fc31.x86_64 x86_64 with fedora 31 Thirty_One"
        }
       ]
      },
      "text/html": [
       "<table><tr><th>Software</th><th>Version</th></tr><tr><td>Python</td><td>2.7.17 64bit [GCC 7.3.0]</td></tr><tr><td>IPython</td><td>5.8.0</td></tr><tr><td>OS</td><td>Linux 5.8.18 100.fc31.x86\\_64 x86\\_64 with fedora 31 Thirty\\_One</td></tr><tr><td colspan='2'>Thu Apr 07 16:45:25 2022 KST</td></tr></table>"
      ],
      "text/latex": [
       "\\begin{tabular}{|l|l|}\\hline\n",
       "{\\bf Software} & {\\bf Version} \\\\ \\hline\\hline\n",
       "Python & 2.7.17 64bit [GCC 7.3.0] \\\\ \\hline\n",
       "IPython & 5.8.0 \\\\ \\hline\n",
       "OS & Linux 5.8.18 100.fc31.x86\\_64 x86\\_64 with fedora 31 Thirty\\_One \\\\ \\hline\n",
       "\\hline \\multicolumn{2}{|l|}{Thu Apr 07 16:45:25 2022 KST} \\\\ \\hline\n",
       "\\end{tabular}\n"
      ],
      "text/plain": [
       "Software versions\n",
       "Python 2.7.17 64bit [GCC 7.3.0]\n",
       "IPython 5.8.0\n",
       "OS Linux 5.8.18 100.fc31.x86_64 x86_64 with fedora 31 Thirty_One\n",
       "Thu Apr 07 16:45:25 2022 KST"
      ]
     },
     "execution_count": 116,
     "metadata": {},
     "output_type": "execute_result"
    }
   ],
   "source": [
    "# Printing the information of Python, IPython, OS, and the generation date.\n",
    "%load_ext version_information\n",
    "%version_information"
   ]
  },
  {
   "cell_type": "code",
   "execution_count": 117,
   "metadata": {},
   "outputs": [
    {
     "name": "stdout",
     "output_type": "stream",
     "text": [
      "numpy: ver 1.16.5\n",
      "matplotlib: ver 2.2.3\n",
      "pandas: ver 0.24.2\n",
      "astropy: ver 2.0.16\n",
      "pyraf: ver 2.1.15\n"
     ]
    }
   ],
   "source": [
    "# Printing the versions of packages\n",
    "from importlib_metadata import version\n",
    "for pkg in ['numpy', 'matplotlib', 'pandas', 'astropy', 'pyraf']:\n",
    "    print(pkg+\": ver \"+version(pkg))"
   ]
  },
  {
   "cell_type": "code",
   "execution_count": 118,
   "metadata": {},
   "outputs": [],
   "source": [
    "# matplotlib backend\n",
    "%matplotlib notebook\n",
    "\n",
    "# importing necessary modules\n",
    "import time\n",
    "import numpy as np\n",
    "import glob, os\n",
    "from matplotlib import pyplot as plt\n",
    "import pandas as pd\n",
    "from astropy.io import fits\n",
    "from astropy.stats import sigma_clipped_stats\n",
    "\n",
    "current_dir = os.getcwd()\n",
    "dir_iraf = os.path.abspath('../')    # where 'login.cl' file is located\n",
    "\n",
    "os.chdir(dir_iraf)\n",
    "from pyraf import iraf\n",
    "os.chdir(current_dir)"
   ]
  },
  {
   "cell_type": "markdown",
   "metadata": {},
   "source": [
    "# 1. Selecting PSF Stars in the Images"
   ]
  },
  {
   "cell_type": "code",
   "execution_count": 119,
   "metadata": {},
   "outputs": [
    {
     "data": {
      "text/plain": [
       "['HolmIX/HolmIX_g.fits',\n",
       " 'HolmIX/HolmIX_g.psf.1.fits',\n",
       " 'HolmIX/HolmIX_g.psf.2.fits',\n",
       " 'HolmIX/HolmIX_g.spsf.1.fits',\n",
       " 'HolmIX/HolmIX_i.fits']"
      ]
     },
     "execution_count": 119,
     "metadata": {},
     "output_type": "execute_result"
    }
   ],
   "source": [
    "dir_img = \"HolmIX/\"\n",
    "imglist = sorted(glob.glob(dir_img+\"*.fits\"))\n",
    "n_img = len(imglist)\n",
    "imglist"
   ]
  },
  {
   "cell_type": "code",
   "execution_count": 121,
   "metadata": {},
   "outputs": [
    {
     "name": "stderr",
     "output_type": "stream",
     "text": [
      "Killing IRAF task `imexamine'\n"
     ]
    },
    {
     "ename": "IrafError",
     "evalue": "Error running IRAF task imexamine\nIRAF task terminated abnormally\nERROR (742, \"Cannot open device (node!imtool,,8192,8192)\u0007\")\n",
     "output_type": "error",
     "traceback": [
      "\u001b[0;31m---------------------------------------------------------------------------\u001b[0m",
      "\u001b[0;31mIrafError\u001b[0m                                 Traceback (most recent call last)",
      "\u001b[0;32m<ipython-input-121-6ef4a674217a>\u001b[0m in \u001b[0;36m<module>\u001b[0;34m()\u001b[0m\n\u001b[0;32m----> 1\u001b[0;31m \u001b[0miraf\u001b[0m\u001b[0;34m.\u001b[0m\u001b[0mimexamine\u001b[0m\u001b[0;34m(\u001b[0m\u001b[0;34m)\u001b[0m\u001b[0;34m\u001b[0m\u001b[0m\n\u001b[0m",
      "\u001b[0;32m/home/jlee/anaconda3/envs/geminiconda/lib/python2.7/site-packages/pyraf/iraftask.pyc\u001b[0m in \u001b[0;36m__call__\u001b[0;34m(self, *args, **kw)\u001b[0m\n\u001b[1;32m    765\u001b[0m \u001b[0;34m\u001b[0m\u001b[0m\n\u001b[1;32m    766\u001b[0m     \u001b[0;32mdef\u001b[0m \u001b[0m__call__\u001b[0m\u001b[0;34m(\u001b[0m\u001b[0mself\u001b[0m\u001b[0;34m,\u001b[0m\u001b[0;34m*\u001b[0m\u001b[0margs\u001b[0m\u001b[0;34m,\u001b[0m\u001b[0;34m**\u001b[0m\u001b[0mkw\u001b[0m\u001b[0;34m)\u001b[0m\u001b[0;34m:\u001b[0m\u001b[0;34m\u001b[0m\u001b[0m\n\u001b[0;32m--> 767\u001b[0;31m         \u001b[0;32mreturn\u001b[0m \u001b[0mself\u001b[0m\u001b[0;34m.\u001b[0m\u001b[0mrun\u001b[0m\u001b[0;34m(\u001b[0m\u001b[0;34m*\u001b[0m\u001b[0margs\u001b[0m\u001b[0;34m,\u001b[0m \u001b[0;34m**\u001b[0m\u001b[0mkw\u001b[0m\u001b[0;34m)\u001b[0m\u001b[0;34m\u001b[0m\u001b[0m\n\u001b[0m\u001b[1;32m    768\u001b[0m \u001b[0;34m\u001b[0m\u001b[0m\n\u001b[1;32m    769\u001b[0m     \u001b[0;32mdef\u001b[0m \u001b[0m__repr__\u001b[0m\u001b[0;34m(\u001b[0m\u001b[0mself\u001b[0m\u001b[0;34m)\u001b[0m\u001b[0;34m:\u001b[0m\u001b[0;34m\u001b[0m\u001b[0m\n",
      "\u001b[0;32m/home/jlee/anaconda3/envs/geminiconda/lib/python2.7/site-packages/pyraf/iraftask.pyc\u001b[0m in \u001b[0;36mrun\u001b[0;34m(self, *args, **kw)\u001b[0m\n\u001b[1;32m    357\u001b[0m             \u001b[0;32mif\u001b[0m \u001b[0mexecutionMonitor\u001b[0m\u001b[0;34m:\u001b[0m\u001b[0;34m\u001b[0m\u001b[0m\n\u001b[1;32m    358\u001b[0m                 \u001b[0mexecutionMonitor\u001b[0m\u001b[0;34m(\u001b[0m\u001b[0mself\u001b[0m\u001b[0;34m)\u001b[0m\u001b[0;34m\u001b[0m\u001b[0m\n\u001b[0;32m--> 359\u001b[0;31m             \u001b[0mself\u001b[0m\u001b[0;34m.\u001b[0m\u001b[0m_run\u001b[0m\u001b[0;34m(\u001b[0m\u001b[0mredirKW\u001b[0m\u001b[0;34m,\u001b[0m \u001b[0mspecialKW\u001b[0m\u001b[0;34m)\u001b[0m\u001b[0;34m\u001b[0m\u001b[0m\n\u001b[0m\u001b[1;32m    360\u001b[0m             \u001b[0mself\u001b[0m\u001b[0;34m.\u001b[0m\u001b[0m_updateParList\u001b[0m\u001b[0;34m(\u001b[0m\u001b[0msave\u001b[0m\u001b[0;34m)\u001b[0m\u001b[0;34m\u001b[0m\u001b[0m\n\u001b[1;32m    361\u001b[0m             \u001b[0;32mif\u001b[0m \u001b[0mVerbose\u001b[0m\u001b[0;34m>\u001b[0m\u001b[0;36m1\u001b[0m\u001b[0;34m:\u001b[0m\u001b[0;34m\u001b[0m\u001b[0m\n",
      "\u001b[0;32m/home/jlee/anaconda3/envs/geminiconda/lib/python2.7/site-packages/pyraf/iraftask.pyc\u001b[0m in \u001b[0;36m_run\u001b[0;34m(self, redirKW, specialKW)\u001b[0m\n\u001b[1;32m    809\u001b[0m         \u001b[0;32mexcept\u001b[0m \u001b[0mirafexecute\u001b[0m\u001b[0;34m.\u001b[0m\u001b[0mIrafProcessError\u001b[0m\u001b[0;34m,\u001b[0m \u001b[0mvalue\u001b[0m\u001b[0;34m:\u001b[0m\u001b[0;34m\u001b[0m\u001b[0m\n\u001b[1;32m    810\u001b[0m             raise IrafError(\"Error running IRAF task \"+self._name+\n\u001b[0;32m--> 811\u001b[0;31m                             \"\\n\"+str(value))\n\u001b[0m\u001b[1;32m    812\u001b[0m \u001b[0;34m\u001b[0m\u001b[0m\n\u001b[1;32m    813\u001b[0m     \u001b[0;32mdef\u001b[0m \u001b[0m_updateParList\u001b[0m\u001b[0;34m(\u001b[0m\u001b[0mself\u001b[0m\u001b[0;34m,\u001b[0m \u001b[0msave\u001b[0m\u001b[0;34m=\u001b[0m\u001b[0;36m0\u001b[0m\u001b[0;34m)\u001b[0m\u001b[0;34m:\u001b[0m\u001b[0;34m\u001b[0m\u001b[0m\n",
      "\u001b[0;31mIrafError\u001b[0m: Error running IRAF task imexamine\nIRAF task terminated abnormally\nERROR (742, \"Cannot open device (node!imtool,,8192,8192)\u0007\")\n"
     ]
    }
   ],
   "source": [
    "iraf.imexamine()"
   ]
  },
  {
   "cell_type": "code",
   "execution_count": 5,
   "metadata": {},
   "outputs": [
    {
     "name": "stdout",
     "output_type": "stream",
     "text": [
      "Running \"ds9 -scalemode zscale -scale lock yes -frame lock image HolmIX/HolmIX_g.fits HolmIX/HolmIX_i.fits &\" in the terminal...\n"
     ]
    },
    {
     "data": {
      "text/plain": [
       "0"
      ]
     },
     "execution_count": 5,
     "metadata": {},
     "output_type": "execute_result"
    }
   ],
   "source": [
    "# You can also run this command in terminal.\n",
    "ds9_options = \"-scalemode zscale -scale lock yes -frame lock image \"\n",
    "names = \"\"\n",
    "for i in np.arange(n_img):\n",
    "    names += imglist[i]+\" \"\n",
    "ds9_command = \"ds9 \"+ds9_options+names+\"&\"\n",
    "print('Running \"'+ds9_command+'\" in the terminal...')\n",
    "os.system(ds9_command)"
   ]
  },
  {
   "cell_type": "code",
   "execution_count": 64,
   "metadata": {},
   "outputs": [],
   "source": [
    "p0_x, p0_y = np.loadtxt(dir_img+\"init_point.reg\").T\n",
    "dat_phot = np.genfromtxt(\"HolmIX/tmp\", dtype='float', encoding=\"ascii\",\n",
    "                         names=(\"ID\",\"XCENTER\",\"YCENTER\",\"MAG\",\"MSKY\"))"
   ]
  },
  {
   "cell_type": "code",
   "execution_count": 39,
   "metadata": {},
   "outputs": [],
   "source": [
    "import astropy.units as u\n",
    "from astropy.coordinates import SkyCoord\n",
    "from astropy.coordinates import CartesianRepresentation"
   ]
  },
  {
   "cell_type": "code",
   "execution_count": 78,
   "metadata": {},
   "outputs": [],
   "source": [
    "coord_regr = SkyCoord(p0_x*u.m, p0_y*u.m, 0.*u.m, representation='cartesian')\n",
    "coord_phot = SkyCoord(dat_phot['XCENTER']*u.m, dat_phot['YCENTER']*u.m, 0.*u.m, representation='cartesian')"
   ]
  },
  {
   "cell_type": "code",
   "execution_count": 79,
   "metadata": {},
   "outputs": [
    {
     "data": {
      "text/plain": [
       "<SkyCoord (ICRS): (x, y, z) in m\n",
       "    [( 958.971,    7.11 , 0.), ( 173.533,   11.188, 0.),\n",
       "     ( 573.037,   11.084, 0.), ..., (1002.524, 2295.431, 0.),\n",
       "     (1444.148, 2295.882, 0.), (1445.735, 2296.83 , 0.)]>"
      ]
     },
     "execution_count": 79,
     "metadata": {},
     "output_type": "execute_result"
    }
   ],
   "source": [
    "coord_phot"
   ]
  },
  {
   "cell_type": "code",
   "execution_count": 80,
   "metadata": {},
   "outputs": [],
   "source": [
    "from astropy.coordinates import matching"
   ]
  },
  {
   "cell_type": "code",
   "execution_count": 88,
   "metadata": {},
   "outputs": [],
   "source": [
    "idx, sep2d, dist3d = matching.match_coordinates_sky(coord_regr, coord_phot)"
   ]
  },
  {
   "cell_type": "code",
   "execution_count": 90,
   "metadata": {},
   "outputs": [
    {
     "data": {
      "text/plain": [
       "<SkyCoord (ICRS): (x, y, z) in m\n",
       "    [( 135.45, 2148.3 , 0.), (  43.97, 1644.04, 0.),\n",
       "     ( 255.01, 1691.56, 0.), ( 505.03, 1740.82, 0.),\n",
       "     ( 481.35, 1424.61, 0.), ( 394.1 , 1320.08, 0.),\n",
       "     ( 114.17,  565.47, 0.), ( 813.4 ,   57.42, 0.),\n",
       "     (1215.78,  271.26, 0.), (1229.25,  526.65, 0.),\n",
       "     (1941.28,  407.71, 0.), (2232.63,  648.03, 0.),\n",
       "     (2083.03, 1387.91, 0.), (2400.55, 2285.54, 0.),\n",
       "     (1300.11, 2240.43, 0.)]>"
      ]
     },
     "execution_count": 90,
     "metadata": {},
     "output_type": "execute_result"
    }
   ],
   "source": [
    "coord_regr"
   ]
  },
  {
   "cell_type": "code",
   "execution_count": 91,
   "metadata": {},
   "outputs": [
    {
     "data": {
      "text/plain": [
       "<SkyCoord (ICRS): (x, y, z) in m\n",
       "    [( 135.457, 2148.271, 0.), (  43.975, 1644.055, 0.),\n",
       "     ( 255.043, 1691.576, 0.), ( 505.043, 1740.849, 0.),\n",
       "     ( 481.344, 1424.64 , 0.), ( 394.096, 1320.088, 0.),\n",
       "     ( 114.151,  565.501, 0.), ( 813.376,   57.402, 0.),\n",
       "     (1215.821,  271.255, 0.), (1229.25 ,  526.681, 0.),\n",
       "     (1941.284,  407.765, 0.), (2232.694,  648.085, 0.),\n",
       "     (1394.986,  929.466, 0.), (1302.321, 1239.92 , 0.),\n",
       "     (1300.096, 2240.482, 0.)]>"
      ]
     },
     "execution_count": 91,
     "metadata": {},
     "output_type": "execute_result"
    }
   ],
   "source": [
    "coord_phot[idx]"
   ]
  },
  {
   "cell_type": "code",
   "execution_count": 93,
   "metadata": {},
   "outputs": [
    {
     "data": {
      "text/plain": [
       "array([5267, 4923, 4954, 4983, 4538, 4285,  458,   23,  177,  383,  256,\n",
       "        668, 2130, 4027, 5324])"
      ]
     },
     "execution_count": 93,
     "metadata": {},
     "output_type": "execute_result"
    }
   ],
   "source": [
    "idx"
   ]
  },
  {
   "cell_type": "code",
   "execution_count": 105,
   "metadata": {},
   "outputs": [],
   "source": [
    "f = open(dir_img+\"HolmIX_g.pst.0\", \"w\")\n",
    "f.write(\"#N ID    XCENTER   YCENTER   MAG         MSKY \\n\")\n",
    "f.write(\"#U ##    pixels    pixels    magnitudes  counts \\n\")\n",
    "f.write(\"#F %-9d  %-10.3f   %-10.3f   %-12.3f     %-15.7g\\n\")\n",
    "f.write(\"#\\n\")\n",
    "for i in idx:\n",
    "    f.write(\"{0:<9d} {1:<10.3f} {2:<10.3f} {3:<12.3f} {4:<15.7g}\\n\".format(int(dat_phot['ID'][i]),\n",
    "                                                                 dat_phot['XCENTER'][i],\n",
    "                                                                 dat_phot['YCENTER'][i],\n",
    "                                                                 dat_phot['MAG'][i],\n",
    "                                                                 dat_phot['MSKY'][i]))\n",
    "f.close()#F %-9d  %-10.3f   %-10.3f   %-12.3f     %-15.7g "
   ]
  },
  {
   "cell_type": "markdown",
   "metadata": {},
   "source": [
    "python 3 representation_type|"
   ]
  },
  {
   "cell_type": "code",
   "execution_count": 6,
   "metadata": {},
   "outputs": [],
   "source": [
    "iraf.noao()\n",
    "iraf.digiphot()\n",
    "iraf.daophot()"
   ]
  },
  {
   "cell_type": "code",
   "execution_count": 57,
   "metadata": {},
   "outputs": [],
   "source": [
    "iraf.txdump(\"HolmIX/HolmIX_g.mag\", \"ID,XCENTER,YCENTER,MAG,MSKY\",\"yes\", Stdout=\"HolmIX/tmp\")"
   ]
  },
  {
   "cell_type": "code",
   "execution_count": 62,
   "metadata": {},
   "outputs": [
    {
     "data": {
      "text/plain": [
       "array([[ 1.000000e+00,  9.589710e+02,  7.110000e+00,  2.901700e+01,\n",
       "        -1.621209e-03],\n",
       "       [ 2.000000e+00,  1.735330e+02,  1.118800e+01,  2.479700e+01,\n",
       "        -1.679210e-03],\n",
       "       [ 3.000000e+00,  5.730370e+02,  1.108400e+01,  2.574800e+01,\n",
       "         2.018862e-03],\n",
       "       ...,\n",
       "       [ 5.343000e+03,  1.002524e+03,  2.295431e+03,  2.375300e+01,\n",
       "         3.005540e-03],\n",
       "       [ 5.344000e+03,  1.444148e+03,  2.295882e+03,  2.364100e+01,\n",
       "        -3.548646e-03],\n",
       "       [ 5.345000e+03,  1.445735e+03,  2.296830e+03,           nan,\n",
       "        -3.360884e-03]])"
      ]
     },
     "execution_count": 62,
     "metadata": {},
     "output_type": "execute_result"
    }
   ],
   "source": [
    "np.genfromtxt(\"HolmIX/tmp\", dtype='float', encoding=\"ascii\")"
   ]
  },
  {
   "cell_type": "code",
   "execution_count": 12,
   "metadata": {},
   "outputs": [],
   "source": [
    "img_g, hdr_g = fits.getdata(imglist[0], header=True)\n",
    "img_i, hdr_i = fits.getdata(imglist[1], header=True)"
   ]
  },
  {
   "cell_type": "code",
   "execution_count": 19,
   "metadata": {},
   "outputs": [
    {
     "name": "stdout",
     "output_type": "stream",
     "text": [
      "(3.845, 3.85)\n",
      "(array([0.006295, 0.01383 ]), array([0.03368, 0.07592]))\n"
     ]
    }
   ],
   "source": [
    "med_fwhm_g, med_fwhm_i = np.loadtxt(dir_img+\"fwhms.txt\").T\n",
    "print(med_fwhm_g, med_fwhm_i)\n",
    "sky_value, sky_sigma = np.loadtxt(dir_img+\"sky.txt\")\n",
    "print(sky_value, sky_sigma)"
   ]
  },
  {
   "cell_type": "code",
   "execution_count": 20,
   "metadata": {},
   "outputs": [
    {
     "name": "stdout",
     "output_type": "stream",
     "text": [
      "\n",
      "Analytic psf function(s) (auto): \tAnalytic psf function(s): auto\n",
      "Order of variable psf (0): \tOrder of variable psf: 0\n",
      "Psf radius in scale units (15.38): \tNew psf radius: 15.38 scale units 15.38 pixels\n",
      "Fitting radius in scale units (3.845): \tNew fitting radius: 3.845 scale units 3.845 pixels\n",
      "Minimum good data value (INDEF) (CR or value): \tNew minimum good data value: INDEF counts\n",
      "Maximum good data value (100.) (CR or value): \tNew maximum good data value: 100. counts\n",
      "\n"
     ]
    },
    {
     "name": "stderr",
     "output_type": "stream",
     "text": [
      "Warning: Graphics overlay not available for display device.\n"
     ]
    },
    {
     "name": "stdout",
     "output_type": "stream",
     "text": [
      "\n",
      "Computing PSF for image: HolmIX/HolmIX_g.fits\n",
      "5345 stars read from HolmIX/HolmIX_g.mag\n",
      "\n",
      "Star at 478.283,1426.313  not found in the photometry file\n",
      "Star 4539 has been added to the PSF star list\n",
      "\tX:  481.34 Y: 1424.64  Mag:  20.664  Dmin: -0.04916718  Dmax: 19.80373\n",
      "Star 4539 is already a PSF star\n",
      "Star 4539 is already a PSF star\n",
      "Star 4286 has been added to the PSF star list\n",
      "\tX:  394.10 Y: 1320.09  Mag:  21.319  Dmin: -0.04231523  Dmax: 11.30819\n",
      "Star 384 has been added to the PSF star list\n",
      "\tX: 1229.25 Y:  526.68  Mag:  20.797  Dmin: -0.05696667  Dmax: 17.86062\n",
      "Star 178 has been added to the PSF star list\n",
      "\tX: 1215.82 Y:  271.26  Mag:  22.297  Dmin: -0.05186392  Dmax: 4.669229\n",
      "Star 121 rejected by user\n",
      "Star 24 has been added to the PSF star list\n",
      "\tX:  813.38 Y:   57.40  Mag:  20.947  Dmin: -0.04667079  Dmax: 15.37144\n",
      "Trying function gauss norm scatter = 0.02523643\n",
      "Trying function lorentz norm scatter = 0.03831252\n",
      "Trying function moffat15 norm scatter = 0.02225554\n",
      "Trying function moffat25 norm scatter = 0.009870139\n",
      "Trying function penny1 norm scatter = 0.006716609\n",
      "Trying function penny2 norm scatter = 0.006729945\n",
      "Best fitting function is penny1\n",
      "\n",
      "Analytic PSF fit \n",
      "    Function: penny1  X: 1249.5  Y: 1149.5  Height: 21.75905  Psfmag: 20.664\n",
      "    Par1: 1.829556  Par2: 1.866427  Par3: 0.6626475  Par4: -0.06655369\n",
      "\n",
      "Computed 1 lookup table(s)\n",
      "\n",
      "Writing PSF image HolmIX/HolmIX_g.psf.1.fits\n",
      "Writing output PSF star list HolmIX/HolmIX_g.pst.1\n",
      "Writing output PSF star group file HolmIX/HolmIX_g.psg.1\n",
      "\u001b[K\u001b[7m[Hit return to continue, q to quit, w to force update of PSF]"
     ]
    },
    {
     "ename": "error",
     "evalue": "(25, 'Inappropriate ioctl for device')",
     "output_type": "error",
     "traceback": [
      "\u001b[0;31m---------------------------------------------------------------------------\u001b[0m",
      "\u001b[0;31merror\u001b[0m                                     Traceback (most recent call last)",
      "\u001b[0;32m<ipython-input-20-d8c01c09814c>\u001b[0m in \u001b[0;36m<module>\u001b[0;34m()\u001b[0m\n\u001b[1;32m     18\u001b[0m \u001b[0;34m\u001b[0m\u001b[0m\n\u001b[1;32m     19\u001b[0m     iraf.psf(image=imglist[i], photfile=magfile, \n\u001b[0;32m---> 20\u001b[0;31m              psfimage=psffile, opstfile=pstfile, groupfile=psgfile, **kwargs)\n\u001b[0m\u001b[1;32m     21\u001b[0m \u001b[0;34m\u001b[0m\u001b[0m\n\u001b[1;32m     22\u001b[0m \u001b[0mend_time\u001b[0m \u001b[0;34m=\u001b[0m \u001b[0mtime\u001b[0m\u001b[0;34m.\u001b[0m\u001b[0mtime\u001b[0m\u001b[0;34m(\u001b[0m\u001b[0;34m)\u001b[0m\u001b[0;34m\u001b[0m\u001b[0m\n",
      "\u001b[0;32m/home/jlee/anaconda3/envs/geminiconda/lib/python2.7/site-packages/pyraf/iraftask.pyc\u001b[0m in \u001b[0;36m__call__\u001b[0;34m(self, *args, **kw)\u001b[0m\n\u001b[1;32m    765\u001b[0m \u001b[0;34m\u001b[0m\u001b[0m\n\u001b[1;32m    766\u001b[0m     \u001b[0;32mdef\u001b[0m \u001b[0m__call__\u001b[0m\u001b[0;34m(\u001b[0m\u001b[0mself\u001b[0m\u001b[0;34m,\u001b[0m\u001b[0;34m*\u001b[0m\u001b[0margs\u001b[0m\u001b[0;34m,\u001b[0m\u001b[0;34m**\u001b[0m\u001b[0mkw\u001b[0m\u001b[0;34m)\u001b[0m\u001b[0;34m:\u001b[0m\u001b[0;34m\u001b[0m\u001b[0m\n\u001b[0;32m--> 767\u001b[0;31m         \u001b[0;32mreturn\u001b[0m \u001b[0mself\u001b[0m\u001b[0;34m.\u001b[0m\u001b[0mrun\u001b[0m\u001b[0;34m(\u001b[0m\u001b[0;34m*\u001b[0m\u001b[0margs\u001b[0m\u001b[0;34m,\u001b[0m \u001b[0;34m**\u001b[0m\u001b[0mkw\u001b[0m\u001b[0;34m)\u001b[0m\u001b[0;34m\u001b[0m\u001b[0m\n\u001b[0m\u001b[1;32m    768\u001b[0m \u001b[0;34m\u001b[0m\u001b[0m\n\u001b[1;32m    769\u001b[0m     \u001b[0;32mdef\u001b[0m \u001b[0m__repr__\u001b[0m\u001b[0;34m(\u001b[0m\u001b[0mself\u001b[0m\u001b[0;34m)\u001b[0m\u001b[0;34m:\u001b[0m\u001b[0;34m\u001b[0m\u001b[0m\n",
      "\u001b[0;32m/home/jlee/anaconda3/envs/geminiconda/lib/python2.7/site-packages/pyraf/iraftask.pyc\u001b[0m in \u001b[0;36mrun\u001b[0;34m(self, *args, **kw)\u001b[0m\n\u001b[1;32m    357\u001b[0m             \u001b[0;32mif\u001b[0m \u001b[0mexecutionMonitor\u001b[0m\u001b[0;34m:\u001b[0m\u001b[0;34m\u001b[0m\u001b[0m\n\u001b[1;32m    358\u001b[0m                 \u001b[0mexecutionMonitor\u001b[0m\u001b[0;34m(\u001b[0m\u001b[0mself\u001b[0m\u001b[0;34m)\u001b[0m\u001b[0;34m\u001b[0m\u001b[0m\n\u001b[0;32m--> 359\u001b[0;31m             \u001b[0mself\u001b[0m\u001b[0;34m.\u001b[0m\u001b[0m_run\u001b[0m\u001b[0;34m(\u001b[0m\u001b[0mredirKW\u001b[0m\u001b[0;34m,\u001b[0m \u001b[0mspecialKW\u001b[0m\u001b[0;34m)\u001b[0m\u001b[0;34m\u001b[0m\u001b[0m\n\u001b[0m\u001b[1;32m    360\u001b[0m             \u001b[0mself\u001b[0m\u001b[0;34m.\u001b[0m\u001b[0m_updateParList\u001b[0m\u001b[0;34m(\u001b[0m\u001b[0msave\u001b[0m\u001b[0;34m)\u001b[0m\u001b[0;34m\u001b[0m\u001b[0m\n\u001b[1;32m    361\u001b[0m             \u001b[0;32mif\u001b[0m \u001b[0mVerbose\u001b[0m\u001b[0;34m>\u001b[0m\u001b[0;36m1\u001b[0m\u001b[0;34m:\u001b[0m\u001b[0;34m\u001b[0m\u001b[0m\n",
      "\u001b[0;32m/home/jlee/anaconda3/envs/geminiconda/lib/python2.7/site-packages/pyraf/iraftask.pyc\u001b[0m in \u001b[0;36m_run\u001b[0;34m(self, redirKW, specialKW)\u001b[0m\n\u001b[1;32m    806\u001b[0m         \"\"\"\n\u001b[1;32m    807\u001b[0m         \u001b[0;32mtry\u001b[0m\u001b[0;34m:\u001b[0m\u001b[0;34m\u001b[0m\u001b[0m\n\u001b[0;32m--> 808\u001b[0;31m             \u001b[0mirafexecute\u001b[0m\u001b[0;34m.\u001b[0m\u001b[0mIrafExecute\u001b[0m\u001b[0;34m(\u001b[0m\u001b[0mself\u001b[0m\u001b[0;34m,\u001b[0m \u001b[0mpyraf\u001b[0m\u001b[0;34m.\u001b[0m\u001b[0miraf\u001b[0m\u001b[0;34m.\u001b[0m\u001b[0mgetVarDict\u001b[0m\u001b[0;34m(\u001b[0m\u001b[0;34m)\u001b[0m\u001b[0;34m,\u001b[0m \u001b[0;34m**\u001b[0m\u001b[0mredirKW\u001b[0m\u001b[0;34m)\u001b[0m\u001b[0;34m\u001b[0m\u001b[0m\n\u001b[0m\u001b[1;32m    809\u001b[0m         \u001b[0;32mexcept\u001b[0m \u001b[0mirafexecute\u001b[0m\u001b[0;34m.\u001b[0m\u001b[0mIrafProcessError\u001b[0m\u001b[0;34m,\u001b[0m \u001b[0mvalue\u001b[0m\u001b[0;34m:\u001b[0m\u001b[0;34m\u001b[0m\u001b[0m\n\u001b[1;32m    810\u001b[0m             raise IrafError(\"Error running IRAF task \"+self._name+\n",
      "\u001b[0;32m/home/jlee/anaconda3/envs/geminiconda/lib/python2.7/site-packages/pyraf/irafexecute.pyc\u001b[0m in \u001b[0;36mIrafExecute\u001b[0;34m(task, envdict, stdin, stdout, stderr, stdgraph)\u001b[0m\n\u001b[1;32m    337\u001b[0m             \u001b[0mgki\u001b[0m\u001b[0;34m.\u001b[0m\u001b[0mkernel\u001b[0m\u001b[0;34m.\u001b[0m\u001b[0mpushStdio\u001b[0m\u001b[0;34m(\u001b[0m\u001b[0mNone\u001b[0m\u001b[0;34m,\u001b[0m\u001b[0mNone\u001b[0m\u001b[0;34m,\u001b[0m\u001b[0mNone\u001b[0m\u001b[0;34m)\u001b[0m\u001b[0;34m\u001b[0m\u001b[0m\n\u001b[1;32m    338\u001b[0m         \u001b[0;32mtry\u001b[0m\u001b[0;34m:\u001b[0m\u001b[0;34m\u001b[0m\u001b[0m\n\u001b[0;32m--> 339\u001b[0;31m             \u001b[0mirafprocess\u001b[0m\u001b[0;34m.\u001b[0m\u001b[0mrun\u001b[0m\u001b[0;34m(\u001b[0m\u001b[0mtask\u001b[0m\u001b[0;34m,\u001b[0m \u001b[0mpstdin\u001b[0m\u001b[0;34m=\u001b[0m\u001b[0mstdin\u001b[0m\u001b[0;34m,\u001b[0m \u001b[0mpstdout\u001b[0m\u001b[0;34m=\u001b[0m\u001b[0mstdout\u001b[0m\u001b[0;34m,\u001b[0m \u001b[0mpstderr\u001b[0m\u001b[0;34m=\u001b[0m\u001b[0mstderr\u001b[0m\u001b[0;34m)\u001b[0m\u001b[0;34m\u001b[0m\u001b[0m\n\u001b[0m\u001b[1;32m    340\u001b[0m         \u001b[0;32mfinally\u001b[0m\u001b[0;34m:\u001b[0m\u001b[0;34m\u001b[0m\u001b[0m\n\u001b[1;32m    341\u001b[0m             \u001b[0;32mif\u001b[0m \u001b[0mstdgraph\u001b[0m\u001b[0;34m:\u001b[0m\u001b[0;34m\u001b[0m\u001b[0m\n",
      "\u001b[0;32m/home/jlee/anaconda3/envs/geminiconda/lib/python2.7/site-packages/pyraf/irafexecute.pyc\u001b[0m in \u001b[0;36mrun\u001b[0;34m(self, task, pstdin, pstdout, pstderr)\u001b[0m\n\u001b[1;32m    506\u001b[0m         \u001b[0;32mtry\u001b[0m\u001b[0;34m:\u001b[0m\u001b[0;34m\u001b[0m\u001b[0m\n\u001b[1;32m    507\u001b[0m             \u001b[0;31m# begin slave mode\u001b[0m\u001b[0;34m\u001b[0m\u001b[0;34m\u001b[0m\u001b[0m\n\u001b[0;32m--> 508\u001b[0;31m             \u001b[0mself\u001b[0m\u001b[0;34m.\u001b[0m\u001b[0mslave\u001b[0m\u001b[0;34m(\u001b[0m\u001b[0;34m)\u001b[0m\u001b[0;34m\u001b[0m\u001b[0m\n\u001b[0m\u001b[1;32m    509\u001b[0m         \u001b[0;32mfinally\u001b[0m\u001b[0;34m:\u001b[0m\u001b[0;34m\u001b[0m\u001b[0m\n\u001b[1;32m    510\u001b[0m             \u001b[0mself\u001b[0m\u001b[0;34m.\u001b[0m\u001b[0mrunning\u001b[0m \u001b[0;34m=\u001b[0m \u001b[0;36m0\u001b[0m\u001b[0;34m\u001b[0m\u001b[0m\n",
      "\u001b[0;32m/home/jlee/anaconda3/envs/geminiconda/lib/python2.7/site-packages/pyraf/irafexecute.pyc\u001b[0m in \u001b[0;36mslave\u001b[0;34m(self)\u001b[0m\n\u001b[1;32m    641\u001b[0m \u001b[0;34m\u001b[0m\u001b[0m\n\u001b[1;32m    642\u001b[0m             \u001b[0;32mif\u001b[0m \u001b[0mmsg5\u001b[0m \u001b[0;34m==\u001b[0m \u001b[0;34m'xfer('\u001b[0m\u001b[0;34m:\u001b[0m\u001b[0;34m\u001b[0m\u001b[0m\n\u001b[0;32m--> 643\u001b[0;31m                 \u001b[0mxfer\u001b[0m\u001b[0;34m(\u001b[0m\u001b[0;34m)\u001b[0m\u001b[0;34m\u001b[0m\u001b[0m\n\u001b[0m\u001b[1;32m    644\u001b[0m             \u001b[0;32melif\u001b[0m \u001b[0mmsg5\u001b[0m \u001b[0;34m==\u001b[0m \u001b[0;34m'xmit('\u001b[0m\u001b[0;34m:\u001b[0m\u001b[0;34m\u001b[0m\u001b[0m\n\u001b[1;32m    645\u001b[0m                 \u001b[0mxmit\u001b[0m\u001b[0;34m(\u001b[0m\u001b[0;34m)\u001b[0m\u001b[0;34m\u001b[0m\u001b[0m\n",
      "\u001b[0;32m/home/jlee/anaconda3/envs/geminiconda/lib/python2.7/site-packages/pyraf/irafexecute.pyc\u001b[0m in \u001b[0;36mxfer\u001b[0;34m(self)\u001b[0m\n\u001b[1;32m    889\u001b[0m                         \u001b[0;31m# to its ASCII integer code.\u001b[0m\u001b[0;34m\u001b[0m\u001b[0;34m\u001b[0m\u001b[0m\n\u001b[1;32m    890\u001b[0m                         \u001b[0;31m#line = raw_input()\u001b[0m\u001b[0;34m\u001b[0m\u001b[0;34m\u001b[0m\u001b[0m\n\u001b[0;32m--> 891\u001b[0;31m                         \u001b[0mline\u001b[0m \u001b[0;34m=\u001b[0m \u001b[0mirafukey\u001b[0m\u001b[0;34m.\u001b[0m\u001b[0mgetSingleTTYChar\u001b[0m\u001b[0;34m(\u001b[0m\u001b[0;34m)\u001b[0m\u001b[0;34m\u001b[0m\u001b[0m\n\u001b[0m\u001b[1;32m    892\u001b[0m                 \u001b[0;32melse\u001b[0m\u001b[0;34m:\u001b[0m\u001b[0;34m\u001b[0m\u001b[0m\n\u001b[1;32m    893\u001b[0m                     \u001b[0;31m# file input, read a big chunk of data\u001b[0m\u001b[0;34m\u001b[0m\u001b[0;34m\u001b[0m\u001b[0m\n",
      "\u001b[0;32m/home/jlee/anaconda3/envs/geminiconda/lib/python2.7/site-packages/pyraf/irafukey.pyc\u001b[0m in \u001b[0;36mgetSingleTTYChar\u001b[0;34m()\u001b[0m\n\u001b[1;32m     34\u001b[0m     \u001b[0;31m# Ripped off from python FAQ\u001b[0m\u001b[0;34m\u001b[0m\u001b[0;34m\u001b[0m\u001b[0m\n\u001b[1;32m     35\u001b[0m     \u001b[0mfd\u001b[0m \u001b[0;34m=\u001b[0m \u001b[0msys\u001b[0m\u001b[0;34m.\u001b[0m\u001b[0mstdin\u001b[0m\u001b[0;34m.\u001b[0m\u001b[0mfileno\u001b[0m\u001b[0;34m(\u001b[0m\u001b[0;34m)\u001b[0m\u001b[0;34m\u001b[0m\u001b[0m\n\u001b[0;32m---> 36\u001b[0;31m     \u001b[0mold\u001b[0m \u001b[0;34m=\u001b[0m \u001b[0mtermios\u001b[0m\u001b[0;34m.\u001b[0m\u001b[0mtcgetattr\u001b[0m\u001b[0;34m(\u001b[0m\u001b[0mfd\u001b[0m\u001b[0;34m)\u001b[0m\u001b[0;34m\u001b[0m\u001b[0m\n\u001b[0m\u001b[1;32m     37\u001b[0m     \u001b[0mnew\u001b[0m \u001b[0;34m=\u001b[0m \u001b[0mtermios\u001b[0m\u001b[0;34m.\u001b[0m\u001b[0mtcgetattr\u001b[0m\u001b[0;34m(\u001b[0m\u001b[0mfd\u001b[0m\u001b[0;34m)\u001b[0m\u001b[0;34m\u001b[0m\u001b[0m\n\u001b[1;32m     38\u001b[0m     \u001b[0mnew\u001b[0m\u001b[0;34m[\u001b[0m\u001b[0;36m3\u001b[0m\u001b[0;34m]\u001b[0m \u001b[0;34m=\u001b[0m \u001b[0mnew\u001b[0m\u001b[0;34m[\u001b[0m\u001b[0;36m3\u001b[0m\u001b[0;34m]\u001b[0m \u001b[0;34m&\u001b[0m \u001b[0;34m~\u001b[0m\u001b[0;34m(\u001b[0m\u001b[0mTERMIOS\u001b[0m\u001b[0;34m.\u001b[0m\u001b[0mICANON\u001b[0m \u001b[0;34m|\u001b[0m \u001b[0mTERMIOS\u001b[0m\u001b[0;34m.\u001b[0m\u001b[0mECHO\u001b[0m \u001b[0;34m|\u001b[0m \u001b[0mTERMIOS\u001b[0m\u001b[0;34m.\u001b[0m\u001b[0mISIG\u001b[0m\u001b[0;34m)\u001b[0m\u001b[0;34m\u001b[0m\u001b[0m\n",
      "\u001b[0;31merror\u001b[0m: (25, 'Inappropriate ioctl for device')"
     ]
    }
   ],
   "source": [
    "# PSF task (interative)\n",
    "band = [\"g\", \"i\"]\n",
    "fwhms = [med_fwhm_g, med_fwhm_i]\n",
    "\n",
    "start_time = time.time()\n",
    "for i, img in enumerate([img_g, img_i]):\n",
    "    imgname = imglist[i].split(\".fits\")[0]\n",
    "    magfile = imgname+\".mag\"\n",
    "    psffile = imgname+\".psf.1.fits\"\n",
    "    pstfile = imgname+\".pst.1\"\n",
    "    psgfile = imgname+\".psg.1\"\n",
    "    os.system(\"rm -rfv \"+psffile+\" \"+pstfile+\" \"+psgfile)\n",
    "    \n",
    "    kwargs = {\"fwhmpsf\":fwhms[i], \"sigma\":sky_sigma[i],\n",
    "              \"datamax\":100.0, \"readnoi\":5.0, \"epadu\":3.0, \"itime\":1.0,\n",
    "              \"psfrad\":4.0*fwhms[i], \"fitrad\":1.0*fwhms[i],\n",
    "              \"function\":\"auto\", \"varorder\":0, \"interactive\":False}\n",
    "\n",
    "    iraf.psf(image=imglist[i], photfile=magfile, \n",
    "             psfimage=psffile, opstfile=pstfile, groupfile=psgfile, **kwargs)\n",
    "    \n",
    "end_time = time.time()\n",
    "print(\"\\n--- PSF tasks take {0:.4f} sec ---\".format(end_time-start_time))"
   ]
  },
  {
   "cell_type": "code",
   "execution_count": 115,
   "metadata": {},
   "outputs": [
    {
     "name": "stdout",
     "output_type": "stream",
     "text": [
      "\n",
      "Analytic psf function(s) (auto): \tAnalytic psf function(s): auto\n",
      "Order of variable psf (0): \tOrder of variable psf: 0\n",
      "Psf radius in scale units (15.38): \tNew psf radius: 15.38 scale units 15.38 pixels\n",
      "Fitting radius in scale units (3.845): \tNew fitting radius: 3.845 scale units 3.845 pixels\n",
      "Minimum good data value (INDEF) (CR or value): \tNew minimum good data value: INDEF counts\n",
      "Maximum good data value (100.) (CR or value): \tNew maximum good data value: 100. counts\n",
      "\n",
      "\n",
      "Computing PSF for image: HolmIX/HolmIX_g.fits\n",
      "5345 stars read from HolmIX/HolmIX_g.mag\n",
      "\n",
      "Star 5268 has been added to the PSF star list\n",
      "\tX:  135.46 Y: 2148.27  Mag:  21.601  Dmin: -0.06291332  Dmax: 8.161823\n",
      "Star 4924 has been added to the PSF star list\n",
      "\tX:   43.97 Y: 1644.06  Mag:  21.062  Dmin: -0.04324778  Dmax: 14.36388\n",
      "Star 4955 has been added to the PSF star list\n",
      "\tX:  255.04 Y: 1691.58  Mag:  21.390  Dmin: -0.0726084  Dmax: 10.52991\n",
      "Star 4984 has been added to the PSF star list\n",
      "\tX:  505.04 Y: 1740.85  Mag:  21.994  Dmin: -0.05355313  Dmax: 5.952258\n",
      "Star 4539 has been added to the PSF star list\n",
      "\tX:  481.34 Y: 1424.64  Mag:  20.664  Dmin: -0.04916718  Dmax: 19.80373\n",
      "Star 4286 has been added to the PSF star list\n",
      "\tX:  394.10 Y: 1320.09  Mag:  21.319  Dmin: -0.04231523  Dmax: 11.30819\n",
      "Star 459 has been added to the PSF star list\n",
      "\tX:  114.15 Y:  565.50  Mag:  22.856  Dmin: -0.0589139  Dmax: 2.577174\n",
      "Star 24 has been added to the PSF star list\n",
      "\tX:  813.38 Y:   57.40  Mag:  20.947  Dmin: -0.04667079  Dmax: 15.37144\n",
      "Star 178 has been added to the PSF star list\n",
      "\tX: 1215.82 Y:  271.26  Mag:  22.297  Dmin: -0.05186392  Dmax: 4.669229\n",
      "Star 384 has been added to the PSF star list\n",
      "\tX: 1229.25 Y:  526.68  Mag:  20.797  Dmin: -0.05696667  Dmax: 17.86062\n",
      "Star 257 has been added to the PSF star list\n",
      "\tX: 1941.28 Y:  407.77  Mag:  22.993  Dmin: -0.0764007  Dmax: 2.347426\n",
      "Star 669 has been added to the PSF star list\n",
      "\tX: 2232.69 Y:  648.09  Mag:  20.808  Dmin: -0.07118516  Dmax: 17.45335\n",
      "Star 2131 has been added to the PSF star list\n",
      "\tX: 1394.99 Y:  929.47  Mag:  24.856  Dmin: 0.08595664  Dmax: 2.833461\n",
      "Star 4028 has been added to the PSF star list\n",
      "\tX: 1302.32 Y: 1239.92  Mag:  24.438  Dmin: -0.01064688  Dmax: 0.5079165\n",
      "Star 5325 has been added to the PSF star list\n",
      "\tX: 1300.10 Y: 2240.48  Mag:  22.497  Dmin: -0.05751233  Dmax: 3.519091\n",
      "\n",
      "15 PSF stars read from HolmIX/HolmIX_g.pst.0\n",
      "\n",
      "Trying function gauss norm scatter = 0.06368815\n",
      "Trying function lorentz norm scatter = 0.05874378\n",
      "Trying function moffat15 norm scatter = 0.05489674\n",
      "Trying function moffat25 norm scatter = 0.05488453\n",
      "Trying function penny1 norm scatter = 0.05605851\n",
      "Trying function penny2 norm scatter = 0.0561594\n",
      "Best fitting function is moffat25\n",
      "\n",
      "Analytic PSF fit \n",
      "    Function: moffat25  X: 1249.5  Y: 1149.5  Height: 19.96532  Psfmag: 21.601\n",
      "    Par1: 1.780963  Par2: 1.818608  XYterm: -0.05748107  Moffat: 2.5\n",
      "\n",
      "Computed 1 lookup table(s)\n",
      "\n",
      "Writing PSF image HolmIX/HolmIX_g.psf.2.fits\n",
      "Writing output PSF star list HolmIX/HolmIX_g.pst.2\n",
      "Writing output PSF star group file HolmIX/HolmIX_g.psg.2\n"
     ]
    }
   ],
   "source": [
    "i = 0\n",
    "kwargs = {\"fwhmpsf\":fwhms[i], \"sigma\":sky_sigma[i],\n",
    "          \"datamax\":100.0, \"readnoi\":5.0, \"epadu\":3.0, \"itime\":1.0,\n",
    "          \"psfrad\":4.0*fwhms[i], \"fitrad\":1.0*fwhms[i],\n",
    "          \"function\":\"auto\", \"varorder\":0, \"interactive\":False}\n",
    "os.system(\"rm -rfv \"+psffile+\" \"+pstfile+\" \"+psgfile)\n",
    "iraf.psf(image=imglist[i], photfile=magfile, pstfile=\"HolmIX/HolmIX_g.pst.0\",\n",
    "         psfimage=psffile, opstfile=pstfile, groupfile=psgfile, **kwargs)"
   ]
  },
  {
   "cell_type": "code",
   "execution_count": 114,
   "metadata": {},
   "outputs": [
    {
     "name": "stdout",
     "output_type": "stream",
     "text": [
      "\n",
      "Recenter the stars (yes): \tRecenter the stars: yes\n",
      "Use group sky values (yes): \tUse group sky values: yes\n",
      "Refit the sky (no): \tRefit the sky: no\n",
      "Psf radius in scale units (15.38): \tNew psf radius: 15.38 scale units 15.38 pixels\n",
      "Fitting radius in scale units (3.845): \tNew fitting radius: 3.845 scale units 3.845 pixels\n",
      "Maximum group size in number of stars (60): \tNew maximum group size: 60 stars\n",
      "Minimum good data value (INDEF) (CR or value): \tNew minimum good data value: INDEF counts\n",
      "Maximum good data value (100.) (CR or value): \tNew maximum good data value: 100. counts\n",
      "\n"
     ]
    },
    {
     "name": "stderr",
     "output_type": "stream",
     "text": [
      "Killing IRAF task `allstar'\n"
     ]
    },
    {
     "ename": "IrafError",
     "evalue": "Error running IRAF task allstar\nIRAF task terminated abnormally\nERROR (1, \"Table `HolmIX/HolmIX_g.psg.2' does not exist or cannot be opened.\u0007\")\n",
     "output_type": "error",
     "traceback": [
      "\u001b[0;31m---------------------------------------------------------------------------\u001b[0m",
      "\u001b[0;31mIrafError\u001b[0m                                 Traceback (most recent call last)",
      "\u001b[0;32m<ipython-input-114-405365cf9bc0>\u001b[0m in \u001b[0;36m<module>\u001b[0;34m()\u001b[0m\n\u001b[1;32m      7\u001b[0m \u001b[0;34m\u001b[0m\u001b[0m\n\u001b[1;32m      8\u001b[0m iraf.allstar(image=imglist[i], photfile=psgfile, psfimage=psffile,\n\u001b[0;32m----> 9\u001b[0;31m              allstarfile=alsfile, rejfile=rejfile, subimage=subimage, **kwargs)\n\u001b[0m",
      "\u001b[0;32m/home/jlee/anaconda3/envs/geminiconda/lib/python2.7/site-packages/pyraf/iraftask.pyc\u001b[0m in \u001b[0;36m__call__\u001b[0;34m(self, *args, **kw)\u001b[0m\n\u001b[1;32m    765\u001b[0m \u001b[0;34m\u001b[0m\u001b[0m\n\u001b[1;32m    766\u001b[0m     \u001b[0;32mdef\u001b[0m \u001b[0m__call__\u001b[0m\u001b[0;34m(\u001b[0m\u001b[0mself\u001b[0m\u001b[0;34m,\u001b[0m\u001b[0;34m*\u001b[0m\u001b[0margs\u001b[0m\u001b[0;34m,\u001b[0m\u001b[0;34m**\u001b[0m\u001b[0mkw\u001b[0m\u001b[0;34m)\u001b[0m\u001b[0;34m:\u001b[0m\u001b[0;34m\u001b[0m\u001b[0m\n\u001b[0;32m--> 767\u001b[0;31m         \u001b[0;32mreturn\u001b[0m \u001b[0mself\u001b[0m\u001b[0;34m.\u001b[0m\u001b[0mrun\u001b[0m\u001b[0;34m(\u001b[0m\u001b[0;34m*\u001b[0m\u001b[0margs\u001b[0m\u001b[0;34m,\u001b[0m \u001b[0;34m**\u001b[0m\u001b[0mkw\u001b[0m\u001b[0;34m)\u001b[0m\u001b[0;34m\u001b[0m\u001b[0m\n\u001b[0m\u001b[1;32m    768\u001b[0m \u001b[0;34m\u001b[0m\u001b[0m\n\u001b[1;32m    769\u001b[0m     \u001b[0;32mdef\u001b[0m \u001b[0m__repr__\u001b[0m\u001b[0;34m(\u001b[0m\u001b[0mself\u001b[0m\u001b[0;34m)\u001b[0m\u001b[0;34m:\u001b[0m\u001b[0;34m\u001b[0m\u001b[0m\n",
      "\u001b[0;32m/home/jlee/anaconda3/envs/geminiconda/lib/python2.7/site-packages/pyraf/iraftask.pyc\u001b[0m in \u001b[0;36mrun\u001b[0;34m(self, *args, **kw)\u001b[0m\n\u001b[1;32m    357\u001b[0m             \u001b[0;32mif\u001b[0m \u001b[0mexecutionMonitor\u001b[0m\u001b[0;34m:\u001b[0m\u001b[0;34m\u001b[0m\u001b[0m\n\u001b[1;32m    358\u001b[0m                 \u001b[0mexecutionMonitor\u001b[0m\u001b[0;34m(\u001b[0m\u001b[0mself\u001b[0m\u001b[0;34m)\u001b[0m\u001b[0;34m\u001b[0m\u001b[0m\n\u001b[0;32m--> 359\u001b[0;31m             \u001b[0mself\u001b[0m\u001b[0;34m.\u001b[0m\u001b[0m_run\u001b[0m\u001b[0;34m(\u001b[0m\u001b[0mredirKW\u001b[0m\u001b[0;34m,\u001b[0m \u001b[0mspecialKW\u001b[0m\u001b[0;34m)\u001b[0m\u001b[0;34m\u001b[0m\u001b[0m\n\u001b[0m\u001b[1;32m    360\u001b[0m             \u001b[0mself\u001b[0m\u001b[0;34m.\u001b[0m\u001b[0m_updateParList\u001b[0m\u001b[0;34m(\u001b[0m\u001b[0msave\u001b[0m\u001b[0;34m)\u001b[0m\u001b[0;34m\u001b[0m\u001b[0m\n\u001b[1;32m    361\u001b[0m             \u001b[0;32mif\u001b[0m \u001b[0mVerbose\u001b[0m\u001b[0;34m>\u001b[0m\u001b[0;36m1\u001b[0m\u001b[0;34m:\u001b[0m\u001b[0;34m\u001b[0m\u001b[0m\n",
      "\u001b[0;32m/home/jlee/anaconda3/envs/geminiconda/lib/python2.7/site-packages/pyraf/iraftask.pyc\u001b[0m in \u001b[0;36m_run\u001b[0;34m(self, redirKW, specialKW)\u001b[0m\n\u001b[1;32m    809\u001b[0m         \u001b[0;32mexcept\u001b[0m \u001b[0mirafexecute\u001b[0m\u001b[0;34m.\u001b[0m\u001b[0mIrafProcessError\u001b[0m\u001b[0;34m,\u001b[0m \u001b[0mvalue\u001b[0m\u001b[0;34m:\u001b[0m\u001b[0;34m\u001b[0m\u001b[0m\n\u001b[1;32m    810\u001b[0m             raise IrafError(\"Error running IRAF task \"+self._name+\n\u001b[0;32m--> 811\u001b[0;31m                             \"\\n\"+str(value))\n\u001b[0m\u001b[1;32m    812\u001b[0m \u001b[0;34m\u001b[0m\u001b[0m\n\u001b[1;32m    813\u001b[0m     \u001b[0;32mdef\u001b[0m \u001b[0m_updateParList\u001b[0m\u001b[0;34m(\u001b[0m\u001b[0mself\u001b[0m\u001b[0;34m,\u001b[0m \u001b[0msave\u001b[0m\u001b[0;34m=\u001b[0m\u001b[0;36m0\u001b[0m\u001b[0;34m)\u001b[0m\u001b[0;34m:\u001b[0m\u001b[0;34m\u001b[0m\u001b[0m\n",
      "\u001b[0;31mIrafError\u001b[0m: Error running IRAF task allstar\nIRAF task terminated abnormally\nERROR (1, \"Table `HolmIX/HolmIX_g.psg.2' does not exist or cannot be opened.\u0007\")\n"
     ]
    }
   ],
   "source": [
    "kwargs = {\"fwhmpsf\":fwhms[i], \"sigma\":sky_sigma[i],\n",
    "          \"datamax\":100.0, \"readnoi\":5.0, \"epadu\":3.0, \"itime\":1.0,\n",
    "          \"psfrad\":4.0*fwhms[i], \"fitrad\":1.0*fwhms[i]}\n",
    "alsfile = imgname+\".als.1\"\n",
    "rejfile = imgname+\".arj.1\"\n",
    "subimage = imgname+\".sub.1.fits\"\n",
    "\n",
    "iraf.allstar(image=imglist[i], photfile=psgfile, psfimage=psffile,\n",
    "             allstarfile=alsfile, rejfile=rejfile, subimage=subimage, **kwargs)"
   ]
  },
  {
   "cell_type": "code",
   "execution_count": 113,
   "metadata": {},
   "outputs": [
    {
     "ename": "KeyError",
     "evalue": "\"Error in parameter 'interactive' for task substar\\n'Key interactive not found'\"",
     "output_type": "error",
     "traceback": [
      "\u001b[0;31m---------------------------------------------------------------------------\u001b[0m",
      "\u001b[0;31mKeyError\u001b[0m                                  Traceback (most recent call last)",
      "\u001b[0;32m<ipython-input-113-737aad3c75ed>\u001b[0m in \u001b[0;36m<module>\u001b[0;34m()\u001b[0m\n\u001b[1;32m      1\u001b[0m \u001b[0mos\u001b[0m\u001b[0;34m.\u001b[0m\u001b[0msystem\u001b[0m\u001b[0;34m(\u001b[0m\u001b[0;34m\"rm -rfv \"\u001b[0m\u001b[0;34m+\u001b[0m\u001b[0mimgname\u001b[0m\u001b[0;34m+\u001b[0m\u001b[0;34m\".sub.1.fits\"\u001b[0m\u001b[0;34m)\u001b[0m\u001b[0;34m\u001b[0m\u001b[0m\n\u001b[1;32m      2\u001b[0m iraf.substar(image=imglist[i], photfile=alsfile, exfile=pstfile, psfimage=psffile,\n\u001b[0;32m----> 3\u001b[0;31m              subimage=imgname+\".sub.1.fits\", **kwargs)\n\u001b[0m",
      "\u001b[0;32m/home/jlee/anaconda3/envs/geminiconda/lib/python2.7/site-packages/pyraf/iraftask.pyc\u001b[0m in \u001b[0;36m__call__\u001b[0;34m(self, *args, **kw)\u001b[0m\n\u001b[1;32m    765\u001b[0m \u001b[0;34m\u001b[0m\u001b[0m\n\u001b[1;32m    766\u001b[0m     \u001b[0;32mdef\u001b[0m \u001b[0m__call__\u001b[0m\u001b[0;34m(\u001b[0m\u001b[0mself\u001b[0m\u001b[0;34m,\u001b[0m\u001b[0;34m*\u001b[0m\u001b[0margs\u001b[0m\u001b[0;34m,\u001b[0m\u001b[0;34m**\u001b[0m\u001b[0mkw\u001b[0m\u001b[0;34m)\u001b[0m\u001b[0;34m:\u001b[0m\u001b[0;34m\u001b[0m\u001b[0m\n\u001b[0;32m--> 767\u001b[0;31m         \u001b[0;32mreturn\u001b[0m \u001b[0mself\u001b[0m\u001b[0;34m.\u001b[0m\u001b[0mrun\u001b[0m\u001b[0;34m(\u001b[0m\u001b[0;34m*\u001b[0m\u001b[0margs\u001b[0m\u001b[0;34m,\u001b[0m \u001b[0;34m**\u001b[0m\u001b[0mkw\u001b[0m\u001b[0;34m)\u001b[0m\u001b[0;34m\u001b[0m\u001b[0m\n\u001b[0m\u001b[1;32m    768\u001b[0m \u001b[0;34m\u001b[0m\u001b[0m\n\u001b[1;32m    769\u001b[0m     \u001b[0;32mdef\u001b[0m \u001b[0m__repr__\u001b[0m\u001b[0;34m(\u001b[0m\u001b[0mself\u001b[0m\u001b[0;34m)\u001b[0m\u001b[0;34m:\u001b[0m\u001b[0;34m\u001b[0m\u001b[0m\n",
      "\u001b[0;32m/home/jlee/anaconda3/envs/geminiconda/lib/python2.7/site-packages/pyraf/iraftask.pyc\u001b[0m in \u001b[0;36mrun\u001b[0;34m(self, *args, **kw)\u001b[0m\n\u001b[1;32m    340\u001b[0m         \u001b[0;31m# copy of the par list, during the life of this PyRAF session.\u001b[0m\u001b[0;34m\u001b[0m\u001b[0;34m\u001b[0m\u001b[0m\n\u001b[1;32m    341\u001b[0m         \u001b[0mkw\u001b[0m\u001b[0;34m[\u001b[0m\u001b[0;34m'_setMode'\u001b[0m\u001b[0;34m]\u001b[0m \u001b[0;34m=\u001b[0m \u001b[0;36m1\u001b[0m\u001b[0;34m\u001b[0m\u001b[0m\n\u001b[0;32m--> 342\u001b[0;31m         \u001b[0mself\u001b[0m\u001b[0;34m.\u001b[0m\u001b[0msetParList\u001b[0m\u001b[0;34m(\u001b[0m\u001b[0;34m*\u001b[0m\u001b[0margs\u001b[0m\u001b[0;34m,\u001b[0m \u001b[0;34m**\u001b[0m\u001b[0mkw\u001b[0m\u001b[0;34m)\u001b[0m\u001b[0;34m\u001b[0m\u001b[0m\n\u001b[0m\u001b[1;32m    343\u001b[0m \u001b[0;34m\u001b[0m\u001b[0m\n\u001b[1;32m    344\u001b[0m         \u001b[0;32mif\u001b[0m \u001b[0mVerbose\u001b[0m\u001b[0;34m>\u001b[0m\u001b[0;36m1\u001b[0m\u001b[0;34m:\u001b[0m\u001b[0;34m\u001b[0m\u001b[0m\n",
      "\u001b[0;32m/home/jlee/anaconda3/envs/geminiconda/lib/python2.7/site-packages/pyraf/iraftask.pyc\u001b[0m in \u001b[0;36msetParList\u001b[0;34m(self, *args, **kw)\u001b[0m\n\u001b[1;32m    458\u001b[0m \u001b[0;34m\u001b[0m\u001b[0m\n\u001b[1;32m    459\u001b[0m         \u001b[0;31m# now, finally, set the passed-in parameters\u001b[0m\u001b[0;34m\u001b[0m\u001b[0;34m\u001b[0m\u001b[0m\n\u001b[0;32m--> 460\u001b[0;31m         \u001b[0mnewParList\u001b[0m\u001b[0;34m.\u001b[0m\u001b[0msetParList\u001b[0m\u001b[0;34m(\u001b[0m\u001b[0;34m*\u001b[0m\u001b[0margs\u001b[0m\u001b[0;34m,\u001b[0m \u001b[0;34m**\u001b[0m\u001b[0mkw\u001b[0m\u001b[0;34m)\u001b[0m\u001b[0;34m\u001b[0m\u001b[0m\n\u001b[0m\u001b[1;32m    461\u001b[0m         \u001b[0;32mif\u001b[0m \u001b[0m_setMode\u001b[0m\u001b[0;34m:\u001b[0m\u001b[0;34m\u001b[0m\u001b[0m\n\u001b[1;32m    462\u001b[0m             \u001b[0;31m# set mode of automatic parameters\u001b[0m\u001b[0;34m\u001b[0m\u001b[0;34m\u001b[0m\u001b[0m\n",
      "\u001b[0;32m/home/jlee/anaconda3/envs/geminiconda/lib/python2.7/site-packages/pyraf/irafpar.pyc\u001b[0m in \u001b[0;36msetParList\u001b[0;34m(self, *args, **kw)\u001b[0m\n\u001b[1;32m    910\u001b[0m                 \u001b[0mi\u001b[0m \u001b[0;34m=\u001b[0m \u001b[0mkey\u001b[0m\u001b[0;34m.\u001b[0m\u001b[0mfind\u001b[0m\u001b[0;34m(\u001b[0m\u001b[0;34m'.'\u001b[0m\u001b[0;34m)\u001b[0m\u001b[0;34m\u001b[0m\u001b[0m\n\u001b[1;32m    911\u001b[0m                 \u001b[0;32mif\u001b[0m \u001b[0mi\u001b[0m\u001b[0;34m<=\u001b[0m\u001b[0;36m0\u001b[0m\u001b[0;34m:\u001b[0m\u001b[0;34m\u001b[0m\u001b[0m\n\u001b[0;32m--> 912\u001b[0;31m                     \u001b[0;32mraise\u001b[0m \u001b[0me\u001b[0m\u001b[0;34m\u001b[0m\u001b[0m\n\u001b[0m\u001b[1;32m    913\u001b[0m                 \u001b[0;31m# recall that key[:i] might be shortened version of par's .name\u001b[0m\u001b[0;34m\u001b[0m\u001b[0;34m\u001b[0m\u001b[0m\n\u001b[1;32m    914\u001b[0m                 \u001b[0mparam\u001b[0m \u001b[0;34m=\u001b[0m \u001b[0;34m(\u001b[0m\u001b[0mself\u001b[0m\u001b[0;34m.\u001b[0m\u001b[0mgetParObject\u001b[0m\u001b[0;34m(\u001b[0m\u001b[0mkey\u001b[0m\u001b[0;34m[\u001b[0m\u001b[0;34m:\u001b[0m\u001b[0mi\u001b[0m\u001b[0;34m]\u001b[0m\u001b[0;34m)\u001b[0m\u001b[0;34m.\u001b[0m\u001b[0mname\u001b[0m\u001b[0;34m,\u001b[0m \u001b[0mkey\u001b[0m\u001b[0;34m[\u001b[0m\u001b[0mi\u001b[0m\u001b[0;34m+\u001b[0m\u001b[0;36m1\u001b[0m\u001b[0;34m:\u001b[0m\u001b[0;34m]\u001b[0m\u001b[0;34m)\u001b[0m\u001b[0;34m\u001b[0m\u001b[0m\n",
      "\u001b[0;31mKeyError\u001b[0m: \"Error in parameter 'interactive' for task substar\\n'Key interactive not found'\""
     ]
    }
   ],
   "source": [
    "os.system(\"rm -rfv \"+imgname+\".sub.1.fits\")\n",
    "iraf.substar(image=imglist[i], photfile=alsfile, exfile=pstfile, psfimage=psffile,\n",
    "             subimage=imgname+\".sub.1.fits\", **kwargs)"
   ]
  },
  {
   "cell_type": "code",
   "execution_count": 111,
   "metadata": {},
   "outputs": [],
   "source": [
    "iraf.seepsf(psffile, \"HolmIX/HolmIX_g.spsf.1.fits\")"
   ]
  },
  {
   "cell_type": "code",
   "execution_count": 112,
   "metadata": {},
   "outputs": [
    {
     "name": "stdout",
     "output_type": "stream",
     "text": [
      "\n",
      "Analytic psf function(s) (auto): \tAnalytic psf function(s): auto\n",
      "Order of variable psf (0): \tOrder of variable psf: 0\n",
      "Psf radius in scale units (15.38): \tNew psf radius: 15.38 scale units 15.38 pixels\n",
      "Fitting radius in scale units (3.845): \tNew fitting radius: 3.845 scale units 3.845 pixels\n",
      "Minimum good data value (INDEF) (CR or value): \tNew minimum good data value: INDEF counts\n",
      "Maximum good data value (100.) (CR or value): \tNew maximum good data value: 100. counts\n",
      "\n"
     ]
    },
    {
     "name": "stderr",
     "output_type": "stream",
     "text": [
      "Killing IRAF task `psf'\n"
     ]
    },
    {
     "ename": "IrafError",
     "evalue": "Error running IRAF task psf\nIRAF task terminated abnormally\nERROR (1113, \"FXF: must specify which FITS extension (HolmIX/HolmIX_g.sub.1.fits)\u0007\")\n",
     "output_type": "error",
     "traceback": [
      "\u001b[0;31m---------------------------------------------------------------------------\u001b[0m",
      "\u001b[0;31mIrafError\u001b[0m                                 Traceback (most recent call last)",
      "\u001b[0;32m<ipython-input-112-86385d949ee5>\u001b[0m in \u001b[0;36m<module>\u001b[0;34m()\u001b[0m\n\u001b[1;32m     12\u001b[0m \u001b[0mos\u001b[0m\u001b[0;34m.\u001b[0m\u001b[0msystem\u001b[0m\u001b[0;34m(\u001b[0m\u001b[0;34m\"rm -rfv \"\u001b[0m\u001b[0;34m+\u001b[0m\u001b[0mpsffile\u001b[0m\u001b[0;34m+\u001b[0m\u001b[0;34m\" \"\u001b[0m\u001b[0;34m+\u001b[0m\u001b[0mpstfile\u001b[0m\u001b[0;34m+\u001b[0m\u001b[0;34m\" \"\u001b[0m\u001b[0;34m+\u001b[0m\u001b[0mpsgfile\u001b[0m\u001b[0;34m)\u001b[0m\u001b[0;34m\u001b[0m\u001b[0m\n\u001b[1;32m     13\u001b[0m iraf.psf(image=imgname+\".sub.1.fits\", photfile=magfile, pstfile=\"HolmIX/HolmIX_g.pst.1\",\n\u001b[0;32m---> 14\u001b[0;31m          psfimage=psffile, opstfile=pstfile, groupfile=psgfile, **kwargs)\n\u001b[0m",
      "\u001b[0;32m/home/jlee/anaconda3/envs/geminiconda/lib/python2.7/site-packages/pyraf/iraftask.pyc\u001b[0m in \u001b[0;36m__call__\u001b[0;34m(self, *args, **kw)\u001b[0m\n\u001b[1;32m    765\u001b[0m \u001b[0;34m\u001b[0m\u001b[0m\n\u001b[1;32m    766\u001b[0m     \u001b[0;32mdef\u001b[0m \u001b[0m__call__\u001b[0m\u001b[0;34m(\u001b[0m\u001b[0mself\u001b[0m\u001b[0;34m,\u001b[0m\u001b[0;34m*\u001b[0m\u001b[0margs\u001b[0m\u001b[0;34m,\u001b[0m\u001b[0;34m**\u001b[0m\u001b[0mkw\u001b[0m\u001b[0;34m)\u001b[0m\u001b[0;34m:\u001b[0m\u001b[0;34m\u001b[0m\u001b[0m\n\u001b[0;32m--> 767\u001b[0;31m         \u001b[0;32mreturn\u001b[0m \u001b[0mself\u001b[0m\u001b[0;34m.\u001b[0m\u001b[0mrun\u001b[0m\u001b[0;34m(\u001b[0m\u001b[0;34m*\u001b[0m\u001b[0margs\u001b[0m\u001b[0;34m,\u001b[0m \u001b[0;34m**\u001b[0m\u001b[0mkw\u001b[0m\u001b[0;34m)\u001b[0m\u001b[0;34m\u001b[0m\u001b[0m\n\u001b[0m\u001b[1;32m    768\u001b[0m \u001b[0;34m\u001b[0m\u001b[0m\n\u001b[1;32m    769\u001b[0m     \u001b[0;32mdef\u001b[0m \u001b[0m__repr__\u001b[0m\u001b[0;34m(\u001b[0m\u001b[0mself\u001b[0m\u001b[0;34m)\u001b[0m\u001b[0;34m:\u001b[0m\u001b[0;34m\u001b[0m\u001b[0m\n",
      "\u001b[0;32m/home/jlee/anaconda3/envs/geminiconda/lib/python2.7/site-packages/pyraf/iraftask.pyc\u001b[0m in \u001b[0;36mrun\u001b[0;34m(self, *args, **kw)\u001b[0m\n\u001b[1;32m    357\u001b[0m             \u001b[0;32mif\u001b[0m \u001b[0mexecutionMonitor\u001b[0m\u001b[0;34m:\u001b[0m\u001b[0;34m\u001b[0m\u001b[0m\n\u001b[1;32m    358\u001b[0m                 \u001b[0mexecutionMonitor\u001b[0m\u001b[0;34m(\u001b[0m\u001b[0mself\u001b[0m\u001b[0;34m)\u001b[0m\u001b[0;34m\u001b[0m\u001b[0m\n\u001b[0;32m--> 359\u001b[0;31m             \u001b[0mself\u001b[0m\u001b[0;34m.\u001b[0m\u001b[0m_run\u001b[0m\u001b[0;34m(\u001b[0m\u001b[0mredirKW\u001b[0m\u001b[0;34m,\u001b[0m \u001b[0mspecialKW\u001b[0m\u001b[0;34m)\u001b[0m\u001b[0;34m\u001b[0m\u001b[0m\n\u001b[0m\u001b[1;32m    360\u001b[0m             \u001b[0mself\u001b[0m\u001b[0;34m.\u001b[0m\u001b[0m_updateParList\u001b[0m\u001b[0;34m(\u001b[0m\u001b[0msave\u001b[0m\u001b[0;34m)\u001b[0m\u001b[0;34m\u001b[0m\u001b[0m\n\u001b[1;32m    361\u001b[0m             \u001b[0;32mif\u001b[0m \u001b[0mVerbose\u001b[0m\u001b[0;34m>\u001b[0m\u001b[0;36m1\u001b[0m\u001b[0;34m:\u001b[0m\u001b[0;34m\u001b[0m\u001b[0m\n",
      "\u001b[0;32m/home/jlee/anaconda3/envs/geminiconda/lib/python2.7/site-packages/pyraf/iraftask.pyc\u001b[0m in \u001b[0;36m_run\u001b[0;34m(self, redirKW, specialKW)\u001b[0m\n\u001b[1;32m    809\u001b[0m         \u001b[0;32mexcept\u001b[0m \u001b[0mirafexecute\u001b[0m\u001b[0;34m.\u001b[0m\u001b[0mIrafProcessError\u001b[0m\u001b[0;34m,\u001b[0m \u001b[0mvalue\u001b[0m\u001b[0;34m:\u001b[0m\u001b[0;34m\u001b[0m\u001b[0m\n\u001b[1;32m    810\u001b[0m             raise IrafError(\"Error running IRAF task \"+self._name+\n\u001b[0;32m--> 811\u001b[0;31m                             \"\\n\"+str(value))\n\u001b[0m\u001b[1;32m    812\u001b[0m \u001b[0;34m\u001b[0m\u001b[0m\n\u001b[1;32m    813\u001b[0m     \u001b[0;32mdef\u001b[0m \u001b[0m_updateParList\u001b[0m\u001b[0;34m(\u001b[0m\u001b[0mself\u001b[0m\u001b[0;34m,\u001b[0m \u001b[0msave\u001b[0m\u001b[0;34m=\u001b[0m\u001b[0;36m0\u001b[0m\u001b[0;34m)\u001b[0m\u001b[0;34m:\u001b[0m\u001b[0;34m\u001b[0m\u001b[0m\n",
      "\u001b[0;31mIrafError\u001b[0m: Error running IRAF task psf\nIRAF task terminated abnormally\nERROR (1113, \"FXF: must specify which FITS extension (HolmIX/HolmIX_g.sub.1.fits)\u0007\")\n"
     ]
    }
   ],
   "source": [
    "magfile = imgname+\".mag\"\n",
    "psffile = imgname+\".psf.2.fits\"\n",
    "pstfile = imgname+\".pst.2\"\n",
    "psgfile = imgname+\".psg.2\"\n",
    "os.system(\"rm -rfv \"+psffile+\" \"+pstfile+\" \"+psgfile)\n",
    "\n",
    "i = 0\n",
    "kwargs = {\"fwhmpsf\":fwhms[i], \"sigma\":sky_sigma[i],\n",
    "          \"datamax\":100.0, \"readnoi\":5.0, \"epadu\":3.0, \"itime\":1.0,\n",
    "          \"psfrad\":4.0*fwhms[i], \"fitrad\":1.0*fwhms[i],\n",
    "          \"function\":\"auto\", \"varorder\":0, \"interactive\":False}\n",
    "os.system(\"rm -rfv \"+psffile+\" \"+pstfile+\" \"+psgfile)\n",
    "iraf.psf(image=imgname+\".sub.1.fits\", photfile=magfile, pstfile=\"HolmIX/HolmIX_g.pst.1\",\n",
    "         psfimage=psffile, opstfile=pstfile, groupfile=psgfile, **kwargs)"
   ]
  },
  {
   "cell_type": "code",
   "execution_count": null,
   "metadata": {},
   "outputs": [],
   "source": []
  }
 ],
 "metadata": {
  "kernelspec": {
   "display_name": "Python 2",
   "language": "python",
   "name": "python2"
  },
  "language_info": {
   "codemirror_mode": {
    "name": "ipython",
    "version": 2
   },
   "file_extension": ".py",
   "mimetype": "text/x-python",
   "name": "python",
   "nbconvert_exporter": "python",
   "pygments_lexer": "ipython2",
   "version": "2.7.17"
  }
 },
 "nbformat": 4,
 "nbformat_minor": 2
}
