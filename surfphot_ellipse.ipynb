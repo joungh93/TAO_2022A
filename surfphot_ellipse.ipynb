{
 "cells": [
  {
   "cell_type": "markdown",
   "metadata": {},
   "source": [
    "# 0. Importing Necessary Packages"
   ]
  },
  {
   "cell_type": "code",
   "execution_count": 1,
   "metadata": {},
   "outputs": [
    {
     "data": {
      "application/json": {
       "Software versions": [
        {
         "module": "Python",
         "version": "2.7.17 64bit [GCC 7.3.0]"
        },
        {
         "module": "IPython",
         "version": "5.8.0"
        },
        {
         "module": "OS",
         "version": "Linux 5.8.18 100.fc31.x86_64 x86_64 with fedora 31 Thirty_One"
        }
       ]
      },
      "text/html": [
       "<table><tr><th>Software</th><th>Version</th></tr><tr><td>Python</td><td>2.7.17 64bit [GCC 7.3.0]</td></tr><tr><td>IPython</td><td>5.8.0</td></tr><tr><td>OS</td><td>Linux 5.8.18 100.fc31.x86\\_64 x86\\_64 with fedora 31 Thirty\\_One</td></tr><tr><td colspan='2'>Sun Apr 24 17:36:36 2022 KST</td></tr></table>"
      ],
      "text/latex": [
       "\\begin{tabular}{|l|l|}\\hline\n",
       "{\\bf Software} & {\\bf Version} \\\\ \\hline\\hline\n",
       "Python & 2.7.17 64bit [GCC 7.3.0] \\\\ \\hline\n",
       "IPython & 5.8.0 \\\\ \\hline\n",
       "OS & Linux 5.8.18 100.fc31.x86\\_64 x86\\_64 with fedora 31 Thirty\\_One \\\\ \\hline\n",
       "\\hline \\multicolumn{2}{|l|}{Sun Apr 24 17:36:36 2022 KST} \\\\ \\hline\n",
       "\\end{tabular}\n"
      ],
      "text/plain": [
       "Software versions\n",
       "Python 2.7.17 64bit [GCC 7.3.0]\n",
       "IPython 5.8.0\n",
       "OS Linux 5.8.18 100.fc31.x86_64 x86_64 with fedora 31 Thirty_One\n",
       "Sun Apr 24 17:36:36 2022 KST"
      ]
     },
     "execution_count": 1,
     "metadata": {},
     "output_type": "execute_result"
    }
   ],
   "source": [
    "# Printing the information of Python, IPython, OS, and the generation date.\n",
    "# Before running this, you have to install version_information module with \"pip install version_information\".\n",
    "%load_ext version_information\n",
    "%version_information"
   ]
  },
  {
   "cell_type": "code",
   "execution_count": 2,
   "metadata": {},
   "outputs": [
    {
     "name": "stdout",
     "output_type": "stream",
     "text": [
      "numpy: ver 1.16.5\n",
      "matplotlib: ver 2.2.3\n",
      "pandas: ver 0.24.2\n",
      "astropy: ver 2.0.16\n",
      "pyraf: ver 2.1.15\n"
     ]
    }
   ],
   "source": [
    "# Printing the versions of packages\n",
    "from importlib_metadata import version\n",
    "for pkg in ['numpy', 'matplotlib', 'pandas', 'astropy', 'pyraf']:\n",
    "    print(pkg+\": ver \"+version(pkg))"
   ]
  },
  {
   "cell_type": "code",
   "execution_count": 3,
   "metadata": {},
   "outputs": [
    {
     "name": "stdout",
     "output_type": "stream",
     "text": [
      "/data/jlee/DATA/TA/2022A/\n"
     ]
    }
   ],
   "source": [
    "# Matplotlib backend\n",
    "%matplotlib notebook\n",
    "\n",
    "# Importing necessary modules\n",
    "import time\n",
    "import numpy as np\n",
    "import glob, os\n",
    "from matplotlib import pyplot as plt\n",
    "import pandas as pd\n",
    "from astropy.io import fits\n",
    "from astropy.stats import sigma_clipped_stats\n",
    "\n",
    "current_dir = os.getcwd()    # Current working directory\n",
    "login_file = \"/data/jlee/DATA/TA/2022A/login.cl\"    # Please give the absolute path of your 'login.cl' file\n",
    "\n",
    "# Reading 'login.cl' file\n",
    "f = open(login_file, \"r\")\n",
    "ll = f.readlines()\n",
    "f.close()\n",
    "\n",
    "# Finding the string for home directory in 'login.cl' file\n",
    "line_homedir = np.argwhere(pd.Series(ll).str.startswith(\"set\\thome\\t\\t=\").values)[0][0]\n",
    "idx_start = ll[line_homedir].find('\"')\n",
    "idx_end = ll[line_homedir].find('\"', idx_start+1)\n",
    "dir_iraf = ll[line_homedir][idx_start+1:idx_end]    # Home directory recoded in the 'login.cl' file\n",
    "print(dir_iraf)    # For check\n",
    "\n",
    "# Importing IRAF\n",
    "os.chdir(dir_iraf)\n",
    "from pyraf import iraf\n",
    "os.chdir(current_dir)"
   ]
  },
  {
   "cell_type": "markdown",
   "metadata": {},
   "source": [
    "# 1. Displaying the Images"
   ]
  },
  {
   "cell_type": "code",
   "execution_count": 6,
   "metadata": {},
   "outputs": [
    {
     "data": {
      "text/plain": [
       "['Combined_images/M105-g.fits',\n",
       " 'Combined_images/M105-i.fits',\n",
       " 'Combined_images/M100-g.fits',\n",
       " 'Combined_images/M100-i.fits']"
      ]
     },
     "execution_count": 6,
     "metadata": {},
     "output_type": "execute_result"
    }
   ],
   "source": [
    "dir_img = \"Combined_images/\"\n",
    "imglist = [dir_img+\"M105-g.fits\", dir_img+\"M105-i.fits\",\n",
    "           dir_img+\"M100-g.fits\", dir_img+\"M100-i.fits\"]\n",
    "n_img = len(imglist)\n",
    "imglist"
   ]
  },
  {
   "cell_type": "code",
   "execution_count": 27,
   "metadata": {},
   "outputs": [
    {
     "name": "stdout",
     "output_type": "stream",
     "text": [
      "Running \"ds9 -scalemode zscale -scale lock yes -frame lock image Combined_images/M105-g.fits Combined_images/M105-i.fits Combined_images/M100-g.fits Combined_images/M100-i.fits &\" in the terminal...\n"
     ]
    },
    {
     "data": {
      "text/plain": [
       "0"
      ]
     },
     "execution_count": 27,
     "metadata": {},
     "output_type": "execute_result"
    }
   ],
   "source": [
    "# You can also run this command in terminal.\n",
    "ds9_options = \"-scalemode zscale -scale lock yes -frame lock image \"\n",
    "names = \"\"\n",
    "for i in np.arange(n_img):\n",
    "    names += imglist[i]+\" \"\n",
    "ds9_command = \"ds9 \"+ds9_options+names+\"&\"\n",
    "print('Running \"'+ds9_command+'\" in the terminal...')\n",
    "os.system(ds9_command)"
   ]
  },
  {
   "cell_type": "markdown",
   "metadata": {},
   "source": [
    "# 2. Running IRAF/Ellipse Task "
   ]
  },
  {
   "cell_type": "code",
   "execution_count": 8,
   "metadata": {},
   "outputs": [
    {
     "name": "stdout",
     "output_type": "stream",
     "text": [
      "\n",
      "\n",
      "      +------------------------------------------------------------+\n",
      "      |       Space Telescope Science Data Analysis System         |\n",
      "      |                   STSDAS Version 3.18.3                    |\n",
      "      |                                                            |\n",
      "      |   Space Telescope Science Institute, Baltimore, Maryland   |\n",
      "      |   Copyright (C) 2014 Association of Universities for       |\n",
      "      |            Research in Astronomy, Inc.(AURA)               |\n",
      "      |       See stsdas$copyright.stsdas for terms of use.        |\n",
      "      |         For help, send e-mail to help@stsci.edu            |\n",
      "      |                                                            |\n",
      "      +------------------------------------------------------------+\n",
      "stsdas/:\n",
      " analysis/      examples        hst_calib/      sobsolete/\n",
      " contrib/       fitsio/         playpen/        toolbox/\n",
      " describe       graphics/       problems\n",
      "isophote/:\n",
      " bmodel         geompar@        isomap          magpar@\n",
      " controlpar@    isoexam         isopall         samplepar@\n",
      " ellipse        isoimap         isoplot\n"
     ]
    }
   ],
   "source": [
    "# IRAF/ellipse task is in the STSDAS package (IRAF external package)\n",
    "iraf.stsdas()\n",
    "iraf.stsdas.analysis()\n",
    "iraf.stsdas.analysis.isophote()"
   ]
  },
  {
   "cell_type": "code",
   "execution_count": 25,
   "metadata": {},
   "outputs": [],
   "source": [
    "# For viewing help file of \"ellipse\" task\n",
    "### IRAF.net website has recently stop its service... :(\n",
    "### But you can still see the detailed description of input parameters of any tasks (but not so convenient) \n",
    "iraf.epar(\"ellipse\")\n",
    "# You have to see the detailed definition of each parameter in geompar, controlpar, samplepar, and magpar.\n",
    "# iraf.epar(\"[TASK_NAME]\")\n",
    "### Click \"[TASK_NAME] help\" for viewing the parameter editor help browser"
   ]
  },
  {
   "cell_type": "code",
   "execution_count": 26,
   "metadata": {},
   "outputs": [],
   "source": [
    "def fit_ellipse(input_image, output_table=None, interactive=False,\n",
    "                model_image=None, residual_image=None, display=False, data_file=None,\n",
    "                x0=100.0, y0=100.0, ellip0=0.1, pa0=45.0, sma0=10.0,  # geompar\n",
    "                minsma=0.0, maxsma=50.0, step=1.0, linear=False, recenter=False,  # geompar\n",
    "                minit=10, maxit=100, hcenter=False, hellip=False, hpa=False,  # controlpar\n",
    "                usclip=3.0, lsclip=3.0, nclip=0,  # samplepar\n",
    "                mag0=25.0,  # magpar\n",
    "                backgr=0.0, interp='nearest'):  # bmodel\n",
    "\n",
    "    '''\n",
    "    # --- basic input parameters --- #\n",
    "    input_image - input image name ('[FILENAME].fits')\n",
    "    output_table - output table name (default: '[FILENAME].tab')\n",
    "    interactive - interactive (boolean, default: False)\n",
    "    model_image - output model image (default: '[FILENAME]_mod.fits')\n",
    "    residual_image - output residual image (default: '[FILENAME]_res.fits')\n",
    "    data_file - output data file (default: '[FILENAME].dat')\n",
    "    display - display the results or not? (boolean, default: False)\n",
    "    \n",
    "    # --- geompar set --- #\n",
    "    x0, y0 - initial isophote center X, Y [pixel]\n",
    "    ellip0, pa0 - initial ellipticity, position angle [degree]\n",
    "    sma0 - initial semi-major axis (SMA) length [pixel]\n",
    "    minsma - minimum SMA length for fitting [pixel] (default: 0.0)\n",
    "    maxsma - maximum SMA length for fitting [pixel]\n",
    "    step - SMA step between successive ellipses [pixel]\n",
    "    linear - linear SMA step for fitting? (boolean, default: False)\n",
    "    recenter - do you allow to re-center x0 & y0? (boolean, default: False)\n",
    "    \n",
    "    # --- controlpar set --- #\n",
    "    minit - minimum iteration number at each step of SMA (default: 10)\n",
    "    maxit - maximum iteration number at each step of SMA (default: 100)\n",
    "    hcenter - do you want to hold center fixed? (boolean, default: False)\n",
    "    hellip - do you want to hold ellipticity fixed? (boolean, default: False)\n",
    "    hpa - do you want to hold position angle fixed? (boolean, default: False)\n",
    "    \n",
    "    # --- samplepar set --- #\n",
    "    usclip - upper sigma-clip criterion (default: 3)\n",
    "    lsclip - lower sigma-clip criterion (default: 3)\n",
    "    nclip - iteration number for the sigma clipping (default: 0)\n",
    "    \n",
    "    # --- magpar set --- #\n",
    "    mag0 - magnitude zeropoint (default: 25.0)\n",
    "    \n",
    "    # --- bmodel parameter set --- #\n",
    "    backgr - background level for making model image (default: 0.0)\n",
    "    interp - interpolation algorithm for model image ('nearest' OR 'linear' OR'poly3' OR 'spline', default: 'nearest')    \n",
    "    '''\n",
    "    \n",
    "    iname = input_image.split('.fits')[0].split('/')[-1]    # Image name\n",
    "    if (output_table is None):\n",
    "        output_table = iname+'.tab'    # Output table name\n",
    "    if (model_image is None):\n",
    "        model_image = iname+'_mod.fits'    # Output model image name\n",
    "    if (residual_image is None):\n",
    "        residual_image = iname+'_res.fits'    # Output residual image name\n",
    "    if (data_file is None):\n",
    "        data_file = iname+'.dat'    # Output data file name \n",
    "\n",
    "    # Reset by removing the output data\n",
    "    os.system('rm -rfv '+output_table+' colnames.lis '+iname+'.dat')\n",
    "    \n",
    "    # Running IRAF/ellipse task\n",
    "    kwargs = {\"x0\":x0, \"y0\":y0, \"ellip0\":ellip0, \"pa0\":pa0, \"sma0\":sma0,\n",
    "              \"minsma\":minsma, \"maxsma\":maxsma, \"step\":step, \"linear\":\"no\", \"recenter\":\"no\",\n",
    "              \"minit\":minit, \"maxit\":maxit, \"hcenter\":\"no\", \"hellip\":\"no\", \"hpa\":\"no\",\n",
    "              \"integrmode\":\"bi-linear\", \"usclip\":usclip, \"lsclip\":lsclip, \"nclip\":nclip,\n",
    "              \"mag0\":mag0, \"refer\":1.0E-5, \"zerolevel\":0.0}\n",
    "    iraf.ellipse(input=input_image, output=output_table, interactive=interactive,\n",
    "                 **kwargs)\n",
    "    \n",
    "    # Making model, residual images\n",
    "    iraf.bmodel(table=output_table, output=model_image, parent=input_image,\n",
    "                backgr=backgr, interp=interp)    # bmodel task for model image\n",
    "    \n",
    "    iraf.imarith(input_image, \"-\", model_image, residual_image)    # input - model = residual\n",
    "    \n",
    "    if display:    # if display == True, DS9 will display input, model, and residual images.\n",
    "        ds9_options += \" -tile grid manual -tile grid layout 3 1 \"\n",
    "        os.system(\"ds9 \"+ds9_options+input_image+\" \"+residual_image+\"&\")\n",
    "    \n",
    "    # Reading output results\n",
    "    ### output_table is not directly readable because it is a binary-format file :( \n",
    "    iraf.tlcol(output_table, nlist=1, Stdout='colnames.lis')    # Extracting column names\n",
    "    iraf.tdump(table=output_table, columns=\"@colnames.lis\", datafile=data_file)    # Making ASCII data file\n",
    "    \n",
    "    f = open(\"colnames.lis\", \"r\")\n",
    "    cc = f.readlines()\n",
    "    f.close()\n",
    "\n",
    "    colnames = []\n",
    "    for line in cc:\n",
    "        if not (line[0] == '#'):\n",
    "            colnames.append(line.split(' ')[0])\n",
    "#     print(colnames)    # column names array\n",
    "    \n",
    "    iso_tbl = np.genfromtxt(output_table, encoding=\"ascii\", names=colnames)    # Reading data\n",
    "    print(iso_tbl)\n",
    "    \n",
    "    return iso_tbl"
   ]
  },
  {
   "cell_type": "code",
   "execution_count": 28,
   "metadata": {},
   "outputs": [
    {
     "name": "stdout",
     "output_type": "stream",
     "text": [
      "(0.02016184872497758, 0.015442665365112712)\n"
     ]
    }
   ],
   "source": [
    "# For g-band image of M105\n",
    "imgname = \"Combined_images/M105-g.fits\"\n",
    "x_center, y_center = 455.0, 455.0    # depending on your object\n",
    "r0 = 420.0    # maximum SMA\n",
    "\n",
    "# --- Background estimation for determining backgroun level --- #\n",
    "### (This is up to you! You do not have to do this if the background level in your images can be obviously determined.)\n",
    "img = fits.getdata(imgname, ext=0)\n",
    "\n",
    "x1d = np.arange(0, img.shape[1], 1)\n",
    "y1d = np.arange(0, img.shape[0], 1)\n",
    "xx, yy = np.meshgrid(x1d, y1d, sparse=True)\n",
    "z = ((xx-x_center)**2.0 + (yy-y_center)**2.0 - r0**2.0)\n",
    "sky_region = (z > 0.0)\n",
    "\n",
    "avg, med, std = sigma_clipped_stats(img[sky_region], sigma=3.0)\n",
    "sky_val, sky_sig = 3.0*med - 2.0*avg, std\n",
    "print(sky_val, sky_sig)\n",
    "# ---------- #\n",
    "\n",
    "# kwargs = {\"input_image\":imgname, \"display\":True,\n",
    "#           \"x0\":455.0, \"y0\":455.0, \"ellip0\":0.05, \"sma0\":50.0,\n",
    "#           \"maxsma\":420, \"step\":0.1,\n",
    "#           \"hcenter\":False, \"hellip\":False, \"hpa\":False,\n",
    "#           \"nclip\":1,\n",
    "#           \"mag0\":22.5}  # Here you can change input (default) parameter if needed!\n",
    "\n",
    "\n",
    "# _ = fit_ellipse()\n",
    "\n",
    "\n",
    "# def fit_ellipse(input_image, output_table=None, interactive=False,\n",
    "#                 model_image=None, residual_image=None, display=False, data_file=None,\n",
    "#                 x0=100.0, y0=100.0, ellip0=0.1, pa0=45.0, sma0=10.0,  # geompar\n",
    "#                 minsma=0.0, maxsma=50.0, step=1.0, linear=False, recenter=False,  # geompar\n",
    "#                 minit=10, maxit=100, hcenter=False, hellip=False, hpa=False,  # controlpar\n",
    "#                 usclip=3.0, lsclip=3.0, nclip=0,  # samplepar\n",
    "#                 mag0=25.0,  # magpar\n",
    "#                 backgr=0.0, interp='nearest'"
   ]
  },
  {
   "cell_type": "code",
   "execution_count": null,
   "metadata": {},
   "outputs": [],
   "source": []
  },
  {
   "cell_type": "code",
   "execution_count": null,
   "metadata": {},
   "outputs": [],
   "source": []
  },
  {
   "cell_type": "code",
   "execution_count": null,
   "metadata": {},
   "outputs": [],
   "source": [
    "def fit_ellipse(input_image, initial_guess_region, step=0.05, maxsma=100.,\n",
    "                plot_isophot=True, imgdata=None, n_isophot=4,\n",
    "                origin='lower', cmap='gray_r', vmin=-0.01, vmax=0.05,\n",
    "                plot_profile=True, boundary_value=None):\n",
    "    '''\n",
    "    input_image - the input image of the masked data array (dtype: string)\n",
    "    initial_guess_region - the initial ellipse region from DS9 (dtype: string)\n",
    "    step - step for ellipse fitting (dtype: numpy.float)\n",
    "    maxsma - maximum semi-major axis for ellipse fitting (dtype: numpy.float)\n",
    "    plot_isophot - if True, plot the isophotal lines over the image data (default: True)\n",
    "    imgdata - the original image data array (dtype: np.array)\n",
    "    n_isophot - the number of isophot lines to plot (dtype: numpy.int)\n",
    "    origin, cmap, vmin, vmax - matplotlib plot parameters\n",
    "    plot_profile - if True, plot the intensity profile (default: True)\n",
    "    boundary_value - the galaxy & tail boundary value (dtype: numpy.float)\n",
    "    '''\n",
    "    x0, y0, a, b, pa = read_region(initial_guess_region, regtype='ellipse')\n",
    "    x0, y0 = x0[0], y0[0]\n",
    "    sma, eps = a[0], b[0]/a[0]\n",
    "    if ((pa[0]-90.) % 180 > 90.):\n",
    "        pa = (pa[0]-90.) % 180 - 180.\n",
    "    elif ((pa[0]-90.) % 180 == 0):\n",
    "        pa = 1./3600\n",
    "    else:\n",
    "        pa = (pa[0]-90.) % 180\n",
    "  \n",
    "    iname = input_image.split('.fits')[0]\n",
    "\n",
    "    os.system('rm -rfv '+iname+'.tab colnames.lis '+iname+'.dat')\n",
    "    \n",
    "    iraf.ellipse(input=iname+'.fits', output=iname+'.tab', interac='no',\n",
    "                 x0=x0, y0=y0, ellip0=eps, pa0=pa, sma0=sma, minsma=0.0, maxsma=maxsma, step=step,\n",
    "                 linear='no', recenter='no', mag0=25.0, refer=1.0E-5, zerolev=0.0, maxit=100,\n",
    "                 hcenter='no', hellip='no', hpa='no')\n",
    "\n",
    "    iraf.tlcol(iname+'.tab', nlist=1, Stdout='colnames.lis')\n",
    "    iraf.tdump(table=iname+'.tab', columns=\"@colnames.lis\", datafile=iname+'.dat')\n",
    "    \n",
    "    f = open(\"colnames.lis\", \"r\")\n",
    "    cc = f.readlines()\n",
    "    f.close()\n",
    "\n",
    "    colnames = []\n",
    "    for line in cc:\n",
    "        if not (line[0] == '#'):\n",
    "            colnames.append(line.split(' ')[0])\n",
    "    print(colnames)\n",
    "    \n",
    "    iso_tbl = np.genfromtxt(iname+\".dat\", encoding=\"ascii\", names=colnames)\n",
    "\n",
    "    if plot_isophot:\n",
    "        fig, ax = plt.subplots()\n",
    "        ax.imshow(imgdata, origin=origin, cmap=cmap, vmin=vmin, vmax=vmax)\n",
    "\n",
    "        smas = np.linspace(0.2*maxsma, 0.8*maxsma, 4)\n",
    "        for sma in smas:\n",
    "            idx = np.abs(iso_tbl['SMA'] - sma).argmin()\n",
    "            e = ell((iso_tbl['X0'][idx], iso_tbl['Y0'][idx]),\n",
    "                    width=2*iso_tbl['SMA'][idx],\n",
    "                    height=2*iso_tbl['SMA'][idx]*(1-iso_tbl['ELLIP'][idx]),\n",
    "                    angle=iso_tbl['PA'][idx]+90.,\n",
    "                    fill=False, color='red', linestyle='-', linewidth=1.25)\n",
    "            ax.add_patch(e)\n",
    "    \n",
    "    if plot_profile:\n",
    "        fig, ax = plt.subplots()\n",
    "        ax.set_xlabel(r\"${\\rm SMA}^{1/4}$\")\n",
    "        ax.set_ylabel(\"Log (Intensity)\")\n",
    "        ax.set_xlim([0.0, maxsma**0.25])\n",
    "        ymin = np.log10(iso_tbl['INTENS'][iso_tbl['INTENS'] > 0.].min()*0.5)\n",
    "        ymax = np.log10(iso_tbl['INTENS'][iso_tbl['INTENS'] > 0.].max()/0.5)\n",
    "        ax.set_ylim([ymin, ymax])\n",
    "        ax.plot(iso_tbl['SMA']**0.25, np.log10(iso_tbl['INTENS']), 'o', ms=3.0)\n",
    "        ax.axhline(np.log10(boundary_value), 0.0, maxsma**0.25,\n",
    "                   linestyle='-', linewidth=1.5, color='gray', alpha=0.9)\n",
    "        plt.tight_layout()\n",
    "    \n",
    "    return iso_tbl"
   ]
  }
 ],
 "metadata": {
  "kernelspec": {
   "display_name": "Python 2",
   "language": "python",
   "name": "python2"
  },
  "language_info": {
   "codemirror_mode": {
    "name": "ipython",
    "version": 2
   },
   "file_extension": ".py",
   "mimetype": "text/x-python",
   "name": "python",
   "nbconvert_exporter": "python",
   "pygments_lexer": "ipython2",
   "version": "2.7.17"
  }
 },
 "nbformat": 4,
 "nbformat_minor": 2
}
