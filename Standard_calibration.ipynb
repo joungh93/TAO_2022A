{
 "cells": [
  {
   "cell_type": "markdown",
   "id": "ecb998df",
   "metadata": {},
   "source": [
    "# 0. Importing Necessary Packages"
   ]
  },
  {
   "cell_type": "code",
   "execution_count": 1,
   "id": "f909d8ce",
   "metadata": {},
   "outputs": [
    {
     "data": {
      "application/json": {
       "Software versions": [
        {
         "module": "Python",
         "version": "3.7.9 64bit [GCC 7.3.0]"
        },
        {
         "module": "IPython",
         "version": "7.16.1"
        },
        {
         "module": "OS",
         "version": "Linux 5.8.18 100.fc31.x86_64 x86_64 with fedora 31 Thirty_One"
        }
       ]
      },
      "text/html": [
       "<table><tr><th>Software</th><th>Version</th></tr><tr><td>Python</td><td>3.7.9 64bit [GCC 7.3.0]</td></tr><tr><td>IPython</td><td>7.16.1</td></tr><tr><td>OS</td><td>Linux 5.8.18 100.fc31.x86_64 x86_64 with fedora 31 Thirty_One</td></tr><tr><td colspan='2'>Mon Mar 28 16:17:14 2022 KST</td></tr></table>"
      ],
      "text/latex": [
       "\\begin{tabular}{|l|l|}\\hline\n",
       "{\\bf Software} & {\\bf Version} \\\\ \\hline\\hline\n",
       "Python & 3.7.9 64bit [GCC 7.3.0] \\\\ \\hline\n",
       "IPython & 7.16.1 \\\\ \\hline\n",
       "OS & Linux 5.8.18 100.fc31.x86\\_64 x86\\_64 with fedora 31 Thirty\\_One \\\\ \\hline\n",
       "\\hline \\multicolumn{2}{|l|}{Mon Mar 28 16:17:14 2022 KST} \\\\ \\hline\n",
       "\\end{tabular}\n"
      ],
      "text/plain": [
       "Software versions\n",
       "Python 3.7.9 64bit [GCC 7.3.0]\n",
       "IPython 7.16.1\n",
       "OS Linux 5.8.18 100.fc31.x86_64 x86_64 with fedora 31 Thirty_One\n",
       "Mon Mar 28 16:17:14 2022 KST"
      ]
     },
     "execution_count": 1,
     "metadata": {},
     "output_type": "execute_result"
    }
   ],
   "source": [
    "# Printing the information of Python, IPython, OS, and the generation date.\n",
    "%load_ext version_information\n",
    "%version_information"
   ]
  },
  {
   "cell_type": "code",
   "execution_count": 26,
   "id": "607a98a2",
   "metadata": {},
   "outputs": [
    {
     "name": "stdout",
     "output_type": "stream",
     "text": [
      "numpy: ver 1.21.0\n",
      "scipy: ver 1.6.2\n",
      "matplotlib: ver 3.2.2\n",
      "astropy: ver 4.2.1\n",
      "pandas: ver 1.2.4\n",
      "statsmodels: ver 0.12.2\n"
     ]
    }
   ],
   "source": [
    "# Printing the versions of packages\n",
    "from importlib_metadata import version\n",
    "for pkg in ['numpy', 'scipy', 'matplotlib', 'astropy', 'pandas', 'statsmodels']:\n",
    "    print(pkg+\": ver \"+version(pkg))"
   ]
  },
  {
   "cell_type": "code",
   "execution_count": 27,
   "id": "3ed338ea",
   "metadata": {},
   "outputs": [],
   "source": [
    "# matplotlib backend\n",
    "%matplotlib notebook\n",
    "\n",
    "# importing necessary modules\n",
    "import numpy as np\n",
    "import glob, os\n",
    "import pandas as pd\n",
    "from sklearn import linear_model\n",
    "import statsmodels.api as sm\n",
    "from matplotlib import pyplot as plt"
   ]
  },
  {
   "cell_type": "markdown",
   "id": "22c14ddc",
   "metadata": {},
   "source": [
    "# 1. Reading the Data"
   ]
  },
  {
   "cell_type": "code",
   "execution_count": 28,
   "id": "08dd0730",
   "metadata": {},
   "outputs": [
    {
     "data": {
      "text/html": [
       "<div>\n",
       "<style scoped>\n",
       "    .dataframe tbody tr th:only-of-type {\n",
       "        vertical-align: middle;\n",
       "    }\n",
       "\n",
       "    .dataframe tbody tr th {\n",
       "        vertical-align: top;\n",
       "    }\n",
       "\n",
       "    .dataframe thead th {\n",
       "        text-align: right;\n",
       "    }\n",
       "</style>\n",
       "<table border=\"1\" class=\"dataframe\">\n",
       "  <thead>\n",
       "    <tr style=\"text-align: right;\">\n",
       "      <th></th>\n",
       "      <th>Star</th>\n",
       "      <th>r_obs</th>\n",
       "      <th>airmass</th>\n",
       "    </tr>\n",
       "  </thead>\n",
       "  <tbody>\n",
       "    <tr>\n",
       "      <th>0</th>\n",
       "      <td>1</td>\n",
       "      <td>10.484</td>\n",
       "      <td>1.199</td>\n",
       "    </tr>\n",
       "    <tr>\n",
       "      <th>1</th>\n",
       "      <td>2</td>\n",
       "      <td>11.641</td>\n",
       "      <td>1.199</td>\n",
       "    </tr>\n",
       "    <tr>\n",
       "      <th>2</th>\n",
       "      <td>3</td>\n",
       "      <td>9.215</td>\n",
       "      <td>1.199</td>\n",
       "    </tr>\n",
       "    <tr>\n",
       "      <th>3</th>\n",
       "      <td>4</td>\n",
       "      <td>9.047</td>\n",
       "      <td>1.199</td>\n",
       "    </tr>\n",
       "    <tr>\n",
       "      <th>4</th>\n",
       "      <td>5</td>\n",
       "      <td>9.502</td>\n",
       "      <td>1.199</td>\n",
       "    </tr>\n",
       "    <tr>\n",
       "      <th>5</th>\n",
       "      <td>6</td>\n",
       "      <td>10.025</td>\n",
       "      <td>1.199</td>\n",
       "    </tr>\n",
       "    <tr>\n",
       "      <th>6</th>\n",
       "      <td>7</td>\n",
       "      <td>9.079</td>\n",
       "      <td>1.199</td>\n",
       "    </tr>\n",
       "    <tr>\n",
       "      <th>7</th>\n",
       "      <td>8</td>\n",
       "      <td>9.914</td>\n",
       "      <td>1.199</td>\n",
       "    </tr>\n",
       "    <tr>\n",
       "      <th>8</th>\n",
       "      <td>9</td>\n",
       "      <td>13.015</td>\n",
       "      <td>1.331</td>\n",
       "    </tr>\n",
       "    <tr>\n",
       "      <th>9</th>\n",
       "      <td>10</td>\n",
       "      <td>13.206</td>\n",
       "      <td>1.331</td>\n",
       "    </tr>\n",
       "  </tbody>\n",
       "</table>\n",
       "</div>"
      ],
      "text/plain": [
       "   Star   r_obs  airmass\n",
       "0     1  10.484    1.199\n",
       "1     2  11.641    1.199\n",
       "2     3   9.215    1.199\n",
       "3     4   9.047    1.199\n",
       "4     5   9.502    1.199\n",
       "5     6  10.025    1.199\n",
       "6     7   9.079    1.199\n",
       "7     8   9.914    1.199\n",
       "8     9  13.015    1.331\n",
       "9    10  13.206    1.331"
      ]
     },
     "execution_count": 28,
     "metadata": {},
     "output_type": "execute_result"
    }
   ],
   "source": [
    "obs = pd.read_csv(\"Calibration/Observation.csv\")\n",
    "obs.head(10)"
   ]
  },
  {
   "cell_type": "code",
   "execution_count": 29,
   "id": "96595fdc",
   "metadata": {},
   "outputs": [
    {
     "data": {
      "text/html": [
       "<div>\n",
       "<style scoped>\n",
       "    .dataframe tbody tr th:only-of-type {\n",
       "        vertical-align: middle;\n",
       "    }\n",
       "\n",
       "    .dataframe tbody tr th {\n",
       "        vertical-align: top;\n",
       "    }\n",
       "\n",
       "    .dataframe thead th {\n",
       "        text-align: right;\n",
       "    }\n",
       "</style>\n",
       "<table border=\"1\" class=\"dataframe\">\n",
       "  <thead>\n",
       "    <tr style=\"text-align: right;\">\n",
       "      <th></th>\n",
       "      <th>Star</th>\n",
       "      <th>V</th>\n",
       "      <th>B-V</th>\n",
       "      <th>U-B</th>\n",
       "      <th>V-R</th>\n",
       "      <th>R-I</th>\n",
       "      <th>V-I</th>\n",
       "    </tr>\n",
       "  </thead>\n",
       "  <tbody>\n",
       "    <tr>\n",
       "      <th>0</th>\n",
       "      <td>1</td>\n",
       "      <td>13.004</td>\n",
       "      <td>1.040</td>\n",
       "      <td>0.737</td>\n",
       "      <td>0.607</td>\n",
       "      <td>0.681</td>\n",
       "      <td>1.287</td>\n",
       "    </tr>\n",
       "    <tr>\n",
       "      <th>1</th>\n",
       "      <td>2</td>\n",
       "      <td>14.196</td>\n",
       "      <td>1.052</td>\n",
       "      <td>0.380</td>\n",
       "      <td>0.606</td>\n",
       "      <td>0.597</td>\n",
       "      <td>1.203</td>\n",
       "    </tr>\n",
       "    <tr>\n",
       "      <th>2</th>\n",
       "      <td>3</td>\n",
       "      <td>11.737</td>\n",
       "      <td>0.987</td>\n",
       "      <td>0.639</td>\n",
       "      <td>0.600</td>\n",
       "      <td>0.674</td>\n",
       "      <td>1.273</td>\n",
       "    </tr>\n",
       "    <tr>\n",
       "      <th>3</th>\n",
       "      <td>4</td>\n",
       "      <td>12.330</td>\n",
       "      <td>2.326</td>\n",
       "      <td>2.326</td>\n",
       "      <td>1.373</td>\n",
       "      <td>1.250</td>\n",
       "      <td>2.625</td>\n",
       "    </tr>\n",
       "    <tr>\n",
       "      <th>4</th>\n",
       "      <td>5</td>\n",
       "      <td>11.773</td>\n",
       "      <td>0.671</td>\n",
       "      <td>0.506</td>\n",
       "      <td>0.373</td>\n",
       "      <td>0.436</td>\n",
       "      <td>0.808</td>\n",
       "    </tr>\n",
       "    <tr>\n",
       "      <th>5</th>\n",
       "      <td>6</td>\n",
       "      <td>14.022</td>\n",
       "      <td>1.248</td>\n",
       "      <td>1.323</td>\n",
       "      <td>0.797</td>\n",
       "      <td>0.683</td>\n",
       "      <td>1.482</td>\n",
       "    </tr>\n",
       "    <tr>\n",
       "      <th>6</th>\n",
       "      <td>7</td>\n",
       "      <td>11.312</td>\n",
       "      <td>0.568</td>\n",
       "      <td>0.059</td>\n",
       "      <td>0.335</td>\n",
       "      <td>0.312</td>\n",
       "      <td>0.652</td>\n",
       "    </tr>\n",
       "    <tr>\n",
       "      <th>7</th>\n",
       "      <td>8</td>\n",
       "      <td>12.440</td>\n",
       "      <td>1.141</td>\n",
       "      <td>0.830</td>\n",
       "      <td>0.633</td>\n",
       "      <td>0.579</td>\n",
       "      <td>1.206</td>\n",
       "    </tr>\n",
       "    <tr>\n",
       "      <th>8</th>\n",
       "      <td>9</td>\n",
       "      <td>14.767</td>\n",
       "      <td>-0.252</td>\n",
       "      <td>-1.091</td>\n",
       "      <td>-0.111</td>\n",
       "      <td>-0.182</td>\n",
       "      <td>-0.296</td>\n",
       "    </tr>\n",
       "    <tr>\n",
       "      <th>9</th>\n",
       "      <td>10</td>\n",
       "      <td>15.553</td>\n",
       "      <td>0.830</td>\n",
       "      <td>0.356</td>\n",
       "      <td>0.433</td>\n",
       "      <td>0.389</td>\n",
       "      <td>0.824</td>\n",
       "    </tr>\n",
       "  </tbody>\n",
       "</table>\n",
       "</div>"
      ],
      "text/plain": [
       "   Star       V    B-V    U-B    V-R    R-I    V-I\n",
       "0     1  13.004  1.040  0.737  0.607  0.681  1.287\n",
       "1     2  14.196  1.052  0.380  0.606  0.597  1.203\n",
       "2     3  11.737  0.987  0.639  0.600  0.674  1.273\n",
       "3     4  12.330  2.326  2.326  1.373  1.250  2.625\n",
       "4     5  11.773  0.671  0.506  0.373  0.436  0.808\n",
       "5     6  14.022  1.248  1.323  0.797  0.683  1.482\n",
       "6     7  11.312  0.568  0.059  0.335  0.312  0.652\n",
       "7     8  12.440  1.141  0.830  0.633  0.579  1.206\n",
       "8     9  14.767 -0.252 -1.091 -0.111 -0.182 -0.296\n",
       "9    10  15.553  0.830  0.356  0.433  0.389  0.824"
      ]
     },
     "execution_count": 29,
     "metadata": {},
     "output_type": "execute_result"
    }
   ],
   "source": [
    "lan = pd.read_csv(\"Calibration/Landolt_catalog.csv\")\n",
    "lan.head(10)"
   ]
  },
  {
   "cell_type": "code",
   "execution_count": null,
   "id": "51f672e9",
   "metadata": {},
   "outputs": [],
   "source": [
    "df = join"
   ]
  }
 ],
 "metadata": {
  "kernelspec": {
   "display_name": "Python 3",
   "language": "python",
   "name": "python3"
  },
  "language_info": {
   "codemirror_mode": {
    "name": "ipython",
    "version": 3
   },
   "file_extension": ".py",
   "mimetype": "text/x-python",
   "name": "python",
   "nbconvert_exporter": "python",
   "pygments_lexer": "ipython3",
   "version": "3.7.9"
  }
 },
 "nbformat": 4,
 "nbformat_minor": 5
}
